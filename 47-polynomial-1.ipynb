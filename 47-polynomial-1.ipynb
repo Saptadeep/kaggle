{
 "cells": [
  {
   "cell_type": "code",
   "execution_count": 1,
   "id": "fa6bcae0",
   "metadata": {
    "execution": {
     "iopub.execute_input": "2023-04-29T02:13:06.631359Z",
     "iopub.status.busy": "2023-04-29T02:13:06.630733Z",
     "iopub.status.idle": "2023-04-29T02:13:07.707404Z",
     "shell.execute_reply": "2023-04-29T02:13:07.706138Z"
    },
    "papermill": {
     "duration": 1.084417,
     "end_time": "2023-04-29T02:13:07.709999",
     "exception": false,
     "start_time": "2023-04-29T02:13:06.625582",
     "status": "completed"
    },
    "tags": []
   },
   "outputs": [
    {
     "data": {
      "text/plain": [
       "'Degree of x**2 + 2*x is 2 and even. Sum of coefficient is: 3'"
      ]
     },
     "metadata": {},
     "output_type": "display_data"
    },
    {
     "data": {
      "text/plain": [
       "'Degree of -x**3 + 4*x is 3 and odd. Number of coefficient is: 2'"
      ]
     },
     "metadata": {},
     "output_type": "display_data"
    },
    {
     "data": {
      "text/plain": [
       "'Degree of x**5 - x**4 + x/4 + 4 is 5 and odd. Number of coefficient is: 4'"
      ]
     },
     "metadata": {},
     "output_type": "display_data"
    }
   ],
   "source": [
    "from IPython.display import display as d, Math\n",
    "import sympy as sym\n",
    "from sympy.abc import x,y\n",
    "\n",
    "poly_list = [sym.poly(x**2 + 2*x), sym.poly(-x**3 + 4*x), sym.poly(x**5 - x**4 + x/4 + 4)]\n",
    "\n",
    "for e in poly_list:\n",
    "    expr_deg = e.degree()\n",
    "    if (expr_deg % 2 == 0):\n",
    "        d(f'Degree of {e.as_expr()} is {expr_deg} and even. Sum of coefficient is: {sum(e.coeffs())}')\n",
    "    else:\n",
    "        d(f'Degree of {e.as_expr()} is {expr_deg} and odd. Number of coefficient is: {len(e.coeffs())}')   "
   ]
  }
 ],
 "metadata": {
  "kernelspec": {
   "display_name": "Python 3",
   "language": "python",
   "name": "python3"
  },
  "language_info": {
   "codemirror_mode": {
    "name": "ipython",
    "version": 3
   },
   "file_extension": ".py",
   "mimetype": "text/x-python",
   "name": "python",
   "nbconvert_exporter": "python",
   "pygments_lexer": "ipython3",
   "version": "3.7.12"
  },
  "papermill": {
   "default_parameters": {},
   "duration": 12.928196,
   "end_time": "2023-04-29T02:13:08.636353",
   "environment_variables": {},
   "exception": null,
   "input_path": "__notebook__.ipynb",
   "output_path": "__notebook__.ipynb",
   "parameters": {},
   "start_time": "2023-04-29T02:12:55.708157",
   "version": "2.4.0"
  }
 },
 "nbformat": 4,
 "nbformat_minor": 5
}
