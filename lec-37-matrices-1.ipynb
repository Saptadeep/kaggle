{
 "cells": [
  {
   "cell_type": "code",
   "execution_count": 1,
   "id": "c92f6ad3",
   "metadata": {
    "_cell_guid": "b1076dfc-b9ad-4769-8c92-a6c4dae69d19",
    "_uuid": "8f2839f25d086af736a60e9eeb907d3b93b6e0e5",
    "execution": {
     "iopub.execute_input": "2023-04-19T07:23:38.734068Z",
     "iopub.status.busy": "2023-04-19T07:23:38.733585Z",
     "iopub.status.idle": "2023-04-19T07:23:39.737093Z",
     "shell.execute_reply": "2023-04-19T07:23:39.735629Z"
    },
    "papermill": {
     "duration": 1.011255,
     "end_time": "2023-04-19T07:23:39.739935",
     "exception": false,
     "start_time": "2023-04-19T07:23:38.728680",
     "status": "completed"
    },
    "tags": []
   },
   "outputs": [
    {
     "data": {
      "text/latex": [
       "$\\displaystyle \\left[\\begin{matrix}1 & 2\\\\3 & 4\\end{matrix}\\right]$"
      ],
      "text/plain": [
       "<IPython.core.display.Math object>"
      ]
     },
     "metadata": {},
     "output_type": "display_data"
    }
   ],
   "source": [
    "from IPython.display import display, Math\n",
    "import sympy as sym\n",
    "import numpy as np\n",
    "A = np.array([[1,2],[3,4]])\n",
    "type(A)\n",
    "display(Math(sym.latex(sym.sympify(A)))) "
   ]
  },
  {
   "cell_type": "code",
   "execution_count": 2,
   "id": "0d555f52",
   "metadata": {
    "execution": {
     "iopub.execute_input": "2023-04-19T07:23:39.746394Z",
     "iopub.status.busy": "2023-04-19T07:23:39.745780Z",
     "iopub.status.idle": "2023-04-19T07:23:39.759711Z",
     "shell.execute_reply": "2023-04-19T07:23:39.758098Z"
    },
    "papermill": {
     "duration": 0.020193,
     "end_time": "2023-04-19T07:23:39.762499",
     "exception": false,
     "start_time": "2023-04-19T07:23:39.742306",
     "status": "completed"
    },
    "tags": []
   },
   "outputs": [
    {
     "data": {
      "text/latex": [
       "$\\displaystyle \\left[\\begin{matrix}1.0 & -1.0 & 1.0 & -1.0 & 1.0 & -1.0\\\\-1.0 & 1.0 & -1.0 & 1.0 & -1.0 & 1.0\\\\1.0 & -1.0 & 1.0 & -1.0 & 1.0 & -1.0\\\\-1.0 & 1.0 & -1.0 & 1.0 & -1.0 & 1.0\\end{matrix}\\right]$"
      ],
      "text/plain": [
       "<IPython.core.display.Math object>"
      ]
     },
     "metadata": {},
     "output_type": "display_data"
    }
   ],
   "source": [
    "from IPython.display import display, Math\n",
    "import sympy as sym\n",
    "import numpy as np\n",
    "A = np.zeros([4,6]) #4 rows and 6 columns\n",
    "# A[2,3]= 12\n",
    "# display(Math(sym.latex(sym.sympify(A))))\n",
    "# A[0,0]= 11112\n",
    "# display(Math(sym.latex(sym.sympify(A))))\n",
    "# A[3,5]= 155551112\n",
    "# display(Math(sym.latex(sym.sympify(A))))\n",
    "\n",
    "r=range(0,4)\n",
    "c=range(0,6)\n",
    "\n",
    "for re in r:\n",
    "    for ce in c:\n",
    "        A[re,ce] = (-1)**(re+ce)\n",
    "       \n",
    "display(Math(sym.latex(sym.sympify(A))))"
   ]
  },
  {
   "cell_type": "code",
   "execution_count": 3,
   "id": "3995dcf4",
   "metadata": {
    "execution": {
     "iopub.execute_input": "2023-04-19T07:23:39.768942Z",
     "iopub.status.busy": "2023-04-19T07:23:39.768541Z",
     "iopub.status.idle": "2023-04-19T07:23:40.129467Z",
     "shell.execute_reply": "2023-04-19T07:23:40.128109Z"
    },
    "papermill": {
     "duration": 0.367082,
     "end_time": "2023-04-19T07:23:40.131945",
     "exception": false,
     "start_time": "2023-04-19T07:23:39.764863",
     "status": "completed"
    },
    "tags": []
   },
   "outputs": [
    {
     "data": {
      "text/latex": [
       "$\\displaystyle \\left(2 - y\\right) \\left(x + 4\\right)$"
      ],
      "text/plain": [
       "<IPython.core.display.Math object>"
      ]
     },
     "metadata": {},
     "output_type": "display_data"
    },
    {
     "data": {
      "text/latex": [
       "$\\displaystyle \\left[\\begin{matrix}8.0 & 4.0 & 0.0\\\\10.0 & 5.0 & 0.0\\\\12.0 & 6.0 & 0.0\\end{matrix}\\right]$"
      ],
      "text/plain": [
       "<IPython.core.display.Math object>"
      ]
     },
     "metadata": {},
     "output_type": "display_data"
    }
   ],
   "source": [
    "from IPython.display import display, Math\n",
    "import sympy as sym\n",
    "import numpy as np\n",
    "from sympy.abc import x,y\n",
    "expr = (4 + x) * (2 - y)\n",
    "display(Math(sym.latex(expr)))\n",
    "A = np.zeros([3,3])\n",
    "spread = np.arange(0,3)\n",
    "for re in spread:\n",
    "    for rc in spread:\n",
    "        A[re,rc] = expr.subs({x:re,y:rc}).evalf()\n",
    "\n",
    "display(Math(sym.latex(sym.sympify(A))))\n",
    "# (sym.latex(func.subs({x:i1, y:i2})))"
   ]
  }
 ],
 "metadata": {
  "kernelspec": {
   "display_name": "Python 3",
   "language": "python",
   "name": "python3"
  },
  "language_info": {
   "codemirror_mode": {
    "name": "ipython",
    "version": 3
   },
   "file_extension": ".py",
   "mimetype": "text/x-python",
   "name": "python",
   "nbconvert_exporter": "python",
   "pygments_lexer": "ipython3",
   "version": "3.7.12"
  },
  "papermill": {
   "default_parameters": {},
   "duration": 13.01504,
   "end_time": "2023-04-19T07:23:40.956737",
   "environment_variables": {},
   "exception": null,
   "input_path": "__notebook__.ipynb",
   "output_path": "__notebook__.ipynb",
   "parameters": {},
   "start_time": "2023-04-19T07:23:27.941697",
   "version": "2.4.0"
  }
 },
 "nbformat": 4,
 "nbformat_minor": 5
}
