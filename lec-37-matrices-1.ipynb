{
 "cells": [
  {
   "cell_type": "code",
   "execution_count": 1,
   "id": "4f889556",
   "metadata": {
    "_cell_guid": "b1076dfc-b9ad-4769-8c92-a6c4dae69d19",
    "_uuid": "8f2839f25d086af736a60e9eeb907d3b93b6e0e5",
    "execution": {
     "iopub.execute_input": "2023-04-16T02:49:25.043111Z",
     "iopub.status.busy": "2023-04-16T02:49:25.042773Z",
     "iopub.status.idle": "2023-04-16T02:49:25.959547Z",
     "shell.execute_reply": "2023-04-16T02:49:25.958014Z"
    },
    "papermill": {
     "duration": 0.922878,
     "end_time": "2023-04-16T02:49:25.962247",
     "exception": false,
     "start_time": "2023-04-16T02:49:25.039369",
     "status": "completed"
    },
    "tags": []
   },
   "outputs": [
    {
     "data": {
      "text/latex": [
       "$\\displaystyle \\left[\\begin{matrix}1 & 2\\\\3 & 4\\end{matrix}\\right]$"
      ],
      "text/plain": [
       "<IPython.core.display.Math object>"
      ]
     },
     "metadata": {},
     "output_type": "display_data"
    }
   ],
   "source": [
    "from IPython.display import display, Math\n",
    "import sympy as sym\n",
    "import numpy as np\n",
    "A = np.array([[1,2],[3,4]])\n",
    "type(A)\n",
    "display(Math(sym.latex(sym.sympify(A)))) "
   ]
  }
 ],
 "metadata": {
  "kernelspec": {
   "display_name": "Python 3",
   "language": "python",
   "name": "python3"
  },
  "language_info": {
   "codemirror_mode": {
    "name": "ipython",
    "version": 3
   },
   "file_extension": ".py",
   "mimetype": "text/x-python",
   "name": "python",
   "nbconvert_exporter": "python",
   "pygments_lexer": "ipython3",
   "version": "3.7.12"
  },
  "papermill": {
   "default_parameters": {},
   "duration": 10.388656,
   "end_time": "2023-04-16T02:49:26.685594",
   "environment_variables": {},
   "exception": null,
   "input_path": "__notebook__.ipynb",
   "output_path": "__notebook__.ipynb",
   "parameters": {},
   "start_time": "2023-04-16T02:49:16.296938",
   "version": "2.4.0"
  }
 },
 "nbformat": 4,
 "nbformat_minor": 5
}
