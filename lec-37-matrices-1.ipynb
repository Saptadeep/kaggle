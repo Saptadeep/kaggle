{
 "cells": [
  {
   "cell_type": "code",
   "execution_count": 1,
   "id": "abcbbe24",
   "metadata": {
    "_cell_guid": "b1076dfc-b9ad-4769-8c92-a6c4dae69d19",
    "_uuid": "8f2839f25d086af736a60e9eeb907d3b93b6e0e5",
    "execution": {
     "iopub.execute_input": "2023-04-19T07:31:41.047210Z",
     "iopub.status.busy": "2023-04-19T07:31:41.046111Z",
     "iopub.status.idle": "2023-04-19T07:31:42.201195Z",
     "shell.execute_reply": "2023-04-19T07:31:42.199716Z"
    },
    "papermill": {
     "duration": 1.163776,
     "end_time": "2023-04-19T07:31:42.204753",
     "exception": false,
     "start_time": "2023-04-19T07:31:41.040977",
     "status": "completed"
    },
    "tags": []
   },
   "outputs": [
    {
     "data": {
      "text/latex": [
       "$\\displaystyle \\left[\\begin{matrix}1 & 2\\\\3 & 4\\end{matrix}\\right]$"
      ],
      "text/plain": [
       "<IPython.core.display.Math object>"
      ]
     },
     "metadata": {},
     "output_type": "display_data"
    }
   ],
   "source": [
    "from IPython.display import display, Math\n",
    "import sympy as sym\n",
    "import numpy as np\n",
    "A = np.array([[1,2],[3,4]])\n",
    "type(A)\n",
    "display(Math(sym.latex(sym.sympify(A)))) "
   ]
  },
  {
   "cell_type": "code",
   "execution_count": 2,
   "id": "dad25615",
   "metadata": {
    "execution": {
     "iopub.execute_input": "2023-04-19T07:31:42.212384Z",
     "iopub.status.busy": "2023-04-19T07:31:42.211143Z",
     "iopub.status.idle": "2023-04-19T07:31:42.226820Z",
     "shell.execute_reply": "2023-04-19T07:31:42.225257Z"
    },
    "papermill": {
     "duration": 0.022686,
     "end_time": "2023-04-19T07:31:42.229977",
     "exception": false,
     "start_time": "2023-04-19T07:31:42.207291",
     "status": "completed"
    },
    "tags": []
   },
   "outputs": [
    {
     "data": {
      "text/latex": [
       "$\\displaystyle \\left[\\begin{matrix}1.0 & -1.0 & 1.0 & -1.0 & 1.0 & -1.0\\\\-1.0 & 1.0 & -1.0 & 1.0 & -1.0 & 1.0\\\\1.0 & -1.0 & 1.0 & -1.0 & 1.0 & -1.0\\\\-1.0 & 1.0 & -1.0 & 1.0 & -1.0 & 1.0\\end{matrix}\\right]$"
      ],
      "text/plain": [
       "<IPython.core.display.Math object>"
      ]
     },
     "metadata": {},
     "output_type": "display_data"
    }
   ],
   "source": [
    "from IPython.display import display, Math\n",
    "import sympy as sym\n",
    "import numpy as np\n",
    "A = np.zeros([4,6]) #4 rows and 6 columns\n",
    "# A[2,3]= 12\n",
    "# display(Math(sym.latex(sym.sympify(A))))\n",
    "# A[0,0]= 11112\n",
    "# display(Math(sym.latex(sym.sympify(A))))\n",
    "# A[3,5]= 155551112\n",
    "# display(Math(sym.latex(sym.sympify(A))))\n",
    "\n",
    "r=range(0,4)\n",
    "c=range(0,6)\n",
    "\n",
    "for re in r:\n",
    "    for ce in c:\n",
    "        A[re,ce] = (-1)**(re+ce)\n",
    "       \n",
    "display(Math(sym.latex(sym.sympify(A))))"
   ]
  },
  {
   "cell_type": "code",
   "execution_count": 3,
   "id": "b0cf0037",
   "metadata": {
    "execution": {
     "iopub.execute_input": "2023-04-19T07:31:42.237767Z",
     "iopub.status.busy": "2023-04-19T07:31:42.236271Z",
     "iopub.status.idle": "2023-04-19T07:31:42.624430Z",
     "shell.execute_reply": "2023-04-19T07:31:42.622683Z"
    },
    "papermill": {
     "duration": 0.395228,
     "end_time": "2023-04-19T07:31:42.627686",
     "exception": false,
     "start_time": "2023-04-19T07:31:42.232458",
     "status": "completed"
    },
    "tags": []
   },
   "outputs": [
    {
     "data": {
      "text/latex": [
       "$\\displaystyle \\left(2 - y\\right) \\left(x + 4\\right)$"
      ],
      "text/plain": [
       "<IPython.core.display.Math object>"
      ]
     },
     "metadata": {},
     "output_type": "display_data"
    },
    {
     "data": {
      "text/latex": [
       "$\\displaystyle \\left[\\begin{matrix}8.0 & 4.0 & 0.0\\\\10.0 & 5.0 & 0.0\\\\12.0 & 6.0 & 0.0\\end{matrix}\\right]$"
      ],
      "text/plain": [
       "<IPython.core.display.Math object>"
      ]
     },
     "metadata": {},
     "output_type": "display_data"
    }
   ],
   "source": [
    "from IPython.display import display, Math\n",
    "import sympy as sym\n",
    "import numpy as np\n",
    "from sympy.abc import x,y\n",
    "expr = (4 + x) * (2 - y)\n",
    "display(Math(sym.latex(expr)))\n",
    "A = np.zeros([3,3])\n",
    "spread = np.arange(0,3)\n",
    "for re in spread:\n",
    "    for rc in spread:\n",
    "        A[re,rc] = expr.subs({x:re,y:rc}).evalf()\n",
    "\n",
    "display(Math(sym.latex(sym.sympify(A))))\n",
    "# (sym.latex(func.subs({x:i1, y:i2})))"
   ]
  }
 ],
 "metadata": {
  "kernelspec": {
   "display_name": "Python 3",
   "language": "python",
   "name": "python3"
  },
  "language_info": {
   "codemirror_mode": {
    "name": "ipython",
    "version": 3
   },
   "file_extension": ".py",
   "mimetype": "text/x-python",
   "name": "python",
   "nbconvert_exporter": "python",
   "pygments_lexer": "ipython3",
   "version": "3.7.12"
  },
  "papermill": {
   "default_parameters": {},
   "duration": 15.503108,
   "end_time": "2023-04-19T07:31:43.556077",
   "environment_variables": {},
   "exception": null,
   "input_path": "__notebook__.ipynb",
   "output_path": "__notebook__.ipynb",
   "parameters": {},
   "start_time": "2023-04-19T07:31:28.052969",
   "version": "2.4.0"
  }
 },
 "nbformat": 4,
 "nbformat_minor": 5
}
