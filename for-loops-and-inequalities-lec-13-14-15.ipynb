{
 "cells": [
  {
   "cell_type": "code",
   "execution_count": 1,
   "id": "a66d5f14",
   "metadata": {
    "execution": {
     "iopub.execute_input": "2023-01-24T06:58:03.066463Z",
     "iopub.status.busy": "2023-01-24T06:58:03.065804Z",
     "iopub.status.idle": "2023-01-24T06:58:03.080903Z",
     "shell.execute_reply": "2023-01-24T06:58:03.079700Z"
    },
    "papermill": {
     "duration": 0.025715,
     "end_time": "2023-01-24T06:58:03.086566",
     "exception": false,
     "start_time": "2023-01-24T06:58:03.060851",
     "status": "completed"
    },
    "tags": []
   },
   "outputs": [
    {
     "name": "stdout",
     "output_type": "stream",
     "text": [
      "22 to the power of 0 is: 1\n",
      "22 to the power of 1 is: 22\n",
      "22 to the power of 2 is: 484\n",
      "22 to the power of 3 is: 10648\n",
      "22 to the power of 4 is: 234256\n",
      "22 to the power of 5 is: 5153632\n",
      "22 to the power of 6 is: 113379904\n",
      "22 to the power of 7 is: 2494357888\n",
      "22 to the power of 8 is: 54875873536\n",
      "22 to the power of 9 is: 1207269217792\n"
     ]
    }
   ],
   "source": [
    "base_num = 22\n",
    "for e in range(0,10):\n",
    "    print (f'{base_num} to the power of {e} is: {base_num**e}')"
   ]
  },
  {
   "cell_type": "code",
   "execution_count": 2,
   "id": "e8db9508",
   "metadata": {
    "execution": {
     "iopub.execute_input": "2023-01-24T06:58:03.093712Z",
     "iopub.status.busy": "2023-01-24T06:58:03.092952Z",
     "iopub.status.idle": "2023-01-24T06:58:03.119486Z",
     "shell.execute_reply": "2023-01-24T06:58:03.117606Z"
    },
    "papermill": {
     "duration": 0.033635,
     "end_time": "2023-01-24T06:58:03.122828",
     "exception": false,
     "start_time": "2023-01-24T06:58:03.089193",
     "status": "completed"
    },
    "tags": []
   },
   "outputs": [
    {
     "data": {
      "text/latex": [
       "$\\displaystyle When \\:  x = 2, \\: 4x \\:  < \\:  17 \\: - \\: x^2 = \\:  True$"
      ],
      "text/plain": [
       "<IPython.core.display.Math object>"
      ]
     },
     "metadata": {},
     "output_type": "display_data"
    },
    {
     "data": {
      "text/latex": [
       "$\\displaystyle When \\:  x = 3, \\: 4x \\:  < \\:  17 \\: - \\: x^2 = \\:  False$"
      ],
      "text/plain": [
       "<IPython.core.display.Math object>"
      ]
     },
     "metadata": {},
     "output_type": "display_data"
    },
    {
     "data": {
      "text/latex": [
       "$\\displaystyle When \\:  x = 4, \\: 4x \\:  < \\:  17 \\: - \\: x^2 = \\:  False$"
      ],
      "text/plain": [
       "<IPython.core.display.Math object>"
      ]
     },
     "metadata": {},
     "output_type": "display_data"
    },
    {
     "data": {
      "text/latex": [
       "$\\displaystyle \\large \\:\\:\\:\\:Next \\: expression$"
      ],
      "text/plain": [
       "<IPython.core.display.Math object>"
      ]
     },
     "metadata": {},
     "output_type": "display_data"
    },
    {
     "data": {
      "text/latex": [
       "$\\displaystyle When \\:  x = 2, \\: 8x -2 \\:  <= \\:  -3x \\: + \\: 42 = \\:  True$"
      ],
      "text/plain": [
       "<IPython.core.display.Math object>"
      ]
     },
     "metadata": {},
     "output_type": "display_data"
    },
    {
     "data": {
      "text/latex": [
       "$\\displaystyle When \\:  x = 3, \\: 8x -2 \\:  <= \\:  -3x \\: + \\: 42 = \\:  True$"
      ],
      "text/plain": [
       "<IPython.core.display.Math object>"
      ]
     },
     "metadata": {},
     "output_type": "display_data"
    },
    {
     "data": {
      "text/latex": [
       "$\\displaystyle When \\:  x = 4, \\: 8x -2 \\:  <= \\:  -3x \\: + \\: 42 = \\:  True$"
      ],
      "text/plain": [
       "<IPython.core.display.Math object>"
      ]
     },
     "metadata": {},
     "output_type": "display_data"
    }
   ],
   "source": [
    "from IPython.display import display, Math\n",
    "\n",
    "for x in range(2,5):    \n",
    "    ans = ((4 * x) < (17 - x**2))\n",
    "    display(Math(f'When \\:  x = {x}, \\: 4x \\:  < \\:  17 \\: - \\: x^2 = \\:  {ans}'))\n",
    "\n",
    "display(Math(f'\\\\large \\:\\:\\:\\:Next \\: expression'))    \n",
    "\n",
    "for x in range(2,5):    \n",
    "#     8x-2 <= -3x +42\n",
    "    ans = (((8 * x) -2) <= ((-3 * x) + 42))\n",
    "    display(Math(f'When \\:  x = {x}, \\: 8x -2 \\:  <= \\:  -3x \\: + \\: 42 = \\:  {ans}'))\n",
    "#     kllk"
   ]
  }
 ],
 "metadata": {
  "kernelspec": {
   "display_name": "Python 3",
   "language": "python",
   "name": "python3"
  },
  "language_info": {
   "codemirror_mode": {
    "name": "ipython",
    "version": 3
   },
   "file_extension": ".py",
   "mimetype": "text/x-python",
   "name": "python",
   "nbconvert_exporter": "python",
   "pygments_lexer": "ipython3",
   "version": "3.7.12"
  },
  "papermill": {
   "default_parameters": {},
   "duration": 10.541084,
   "end_time": "2023-01-24T06:58:03.952739",
   "environment_variables": {},
   "exception": null,
   "input_path": "__notebook__.ipynb",
   "output_path": "__notebook__.ipynb",
   "parameters": {},
   "start_time": "2023-01-24T06:57:53.411655",
   "version": "2.3.4"
  }
 },
 "nbformat": 4,
 "nbformat_minor": 5
}
