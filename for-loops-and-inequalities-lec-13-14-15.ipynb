{
 "cells": [
  {
   "cell_type": "code",
   "execution_count": 1,
   "id": "749dbf35",
   "metadata": {
    "execution": {
     "iopub.execute_input": "2023-01-24T09:56:10.608978Z",
     "iopub.status.busy": "2023-01-24T09:56:10.608605Z",
     "iopub.status.idle": "2023-01-24T09:56:10.622909Z",
     "shell.execute_reply": "2023-01-24T09:56:10.620952Z"
    },
    "papermill": {
     "duration": 0.021145,
     "end_time": "2023-01-24T09:56:10.625827",
     "exception": false,
     "start_time": "2023-01-24T09:56:10.604682",
     "status": "completed"
    },
    "tags": []
   },
   "outputs": [
    {
     "name": "stdout",
     "output_type": "stream",
     "text": [
      "22 to the power of 0 is: 1\n",
      "22 to the power of 1 is: 22\n",
      "22 to the power of 2 is: 484\n",
      "22 to the power of 3 is: 10648\n",
      "22 to the power of 4 is: 234256\n",
      "22 to the power of 5 is: 5153632\n",
      "22 to the power of 6 is: 113379904\n",
      "22 to the power of 7 is: 2494357888\n",
      "22 to the power of 8 is: 54875873536\n",
      "22 to the power of 9 is: 1207269217792\n"
     ]
    }
   ],
   "source": [
    "\n",
    "base_num = 22\n",
    "for e in range(0,10):\n",
    "    print (f'{base_num} to the power of {e} is: {base_num**e}')"
   ]
  },
  {
   "cell_type": "code",
   "execution_count": 2,
   "id": "c75fbb8c",
   "metadata": {
    "execution": {
     "iopub.execute_input": "2023-01-24T09:56:10.630933Z",
     "iopub.status.busy": "2023-01-24T09:56:10.630589Z",
     "iopub.status.idle": "2023-01-24T09:56:10.652509Z",
     "shell.execute_reply": "2023-01-24T09:56:10.651237Z"
    },
    "papermill": {
     "duration": 0.026518,
     "end_time": "2023-01-24T09:56:10.654478",
     "exception": false,
     "start_time": "2023-01-24T09:56:10.627960",
     "status": "completed"
    },
    "tags": []
   },
   "outputs": [
    {
     "data": {
      "text/latex": [
       "$\\displaystyle When \\:  x = 2, \\: 4x \\:  < \\:  17 \\: - \\: x^2 = \\:  True$"
      ],
      "text/plain": [
       "<IPython.core.display.Math object>"
      ]
     },
     "metadata": {},
     "output_type": "display_data"
    },
    {
     "data": {
      "text/latex": [
       "$\\displaystyle When \\:  x = 3, \\: 4x \\:  < \\:  17 \\: - \\: x^2 = \\:  False$"
      ],
      "text/plain": [
       "<IPython.core.display.Math object>"
      ]
     },
     "metadata": {},
     "output_type": "display_data"
    },
    {
     "data": {
      "text/latex": [
       "$\\displaystyle When \\:  x = 4, \\: 4x \\:  < \\:  17 \\: - \\: x^2 = \\:  False$"
      ],
      "text/plain": [
       "<IPython.core.display.Math object>"
      ]
     },
     "metadata": {},
     "output_type": "display_data"
    },
    {
     "data": {
      "text/latex": [
       "$\\displaystyle \\large \\:\\:\\:\\:Next \\: expression$"
      ],
      "text/plain": [
       "<IPython.core.display.Math object>"
      ]
     },
     "metadata": {},
     "output_type": "display_data"
    },
    {
     "data": {
      "text/latex": [
       "$\\displaystyle When \\:  x = 2, \\: 8x -2 \\:  <= \\:  -3x \\: + \\: 42 = \\:  True$"
      ],
      "text/plain": [
       "<IPython.core.display.Math object>"
      ]
     },
     "metadata": {},
     "output_type": "display_data"
    },
    {
     "data": {
      "text/latex": [
       "$\\displaystyle When \\:  x = 3, \\: 8x -2 \\:  <= \\:  -3x \\: + \\: 42 = \\:  True$"
      ],
      "text/plain": [
       "<IPython.core.display.Math object>"
      ]
     },
     "metadata": {},
     "output_type": "display_data"
    },
    {
     "data": {
      "text/latex": [
       "$\\displaystyle When \\:  x = 4, \\: 8x -2 \\:  <= \\:  -3x \\: + \\: 42 = \\:  True$"
      ],
      "text/plain": [
       "<IPython.core.display.Math object>"
      ]
     },
     "metadata": {},
     "output_type": "display_data"
    }
   ],
   "source": [
    "from IPython.display import display, Math\n",
    "\n",
    "for x in range(2,5):    \n",
    "    ans = ((4 * x) < (17 - x**2))\n",
    "    display(Math(f'When \\:  x = {x}, \\: 4x \\:  < \\:  17 \\: - \\: x^2 = \\:  {ans}'))\n",
    "\n",
    "display(Math(f'\\\\large \\:\\:\\:\\:Next \\: expression'))    \n",
    "\n",
    "for x in range(2,5):    \n",
    "    ans = (((8 * x) -2) <= ((-3 * x) + 42))\n",
    "    display(Math(f'When \\:  x = {x}, \\: 8x -2 \\:  <= \\:  -3x \\: + \\: 42 = \\:  {ans}'))"
   ]
  },
  {
   "cell_type": "code",
   "execution_count": 3,
   "id": "2ccbf0da",
   "metadata": {
    "execution": {
     "iopub.execute_input": "2023-01-24T09:56:10.660961Z",
     "iopub.status.busy": "2023-01-24T09:56:10.660564Z",
     "iopub.status.idle": "2023-01-24T09:56:10.684705Z",
     "shell.execute_reply": "2023-01-24T09:56:10.684022Z"
    },
    "papermill": {
     "duration": 0.02932,
     "end_time": "2023-01-24T09:56:10.686298",
     "exception": false,
     "start_time": "2023-01-24T09:56:10.656978",
     "status": "completed"
    },
    "tags": []
   },
   "outputs": [
    {
     "data": {
      "text/latex": [
       "$\\displaystyle \\Large 1 ^ {-1} = 1$"
      ],
      "text/plain": [
       "<IPython.core.display.Math object>"
      ]
     },
     "metadata": {},
     "output_type": "display_data"
    },
    {
     "data": {
      "text/latex": [
       "$\\displaystyle \\Large 1 ^ {-2} = 1$"
      ],
      "text/plain": [
       "<IPython.core.display.Math object>"
      ]
     },
     "metadata": {},
     "output_type": "display_data"
    },
    {
     "data": {
      "text/latex": [
       "$\\displaystyle \\Large 1 ^ {-3} = 1$"
      ],
      "text/plain": [
       "<IPython.core.display.Math object>"
      ]
     },
     "metadata": {},
     "output_type": "display_data"
    },
    {
     "data": {
      "text/latex": [
       "$\\displaystyle \\Large 1 ^ {-4} = 1$"
      ],
      "text/plain": [
       "<IPython.core.display.Math object>"
      ]
     },
     "metadata": {},
     "output_type": "display_data"
    },
    {
     "data": {
      "text/latex": [
       "$\\displaystyle \\Large 2 ^ {-1} = 0.5$"
      ],
      "text/plain": [
       "<IPython.core.display.Math object>"
      ]
     },
     "metadata": {},
     "output_type": "display_data"
    },
    {
     "data": {
      "text/latex": [
       "$\\displaystyle \\Large 2 ^ {-2} = 0.25$"
      ],
      "text/plain": [
       "<IPython.core.display.Math object>"
      ]
     },
     "metadata": {},
     "output_type": "display_data"
    },
    {
     "data": {
      "text/latex": [
       "$\\displaystyle \\Large 2 ^ {-3} = 0.125$"
      ],
      "text/plain": [
       "<IPython.core.display.Math object>"
      ]
     },
     "metadata": {},
     "output_type": "display_data"
    },
    {
     "data": {
      "text/latex": [
       "$\\displaystyle \\Large 2 ^ {-4} = 0.0625$"
      ],
      "text/plain": [
       "<IPython.core.display.Math object>"
      ]
     },
     "metadata": {},
     "output_type": "display_data"
    },
    {
     "data": {
      "text/latex": [
       "$\\displaystyle \\Large 3 ^ {-1} = 0.333333$"
      ],
      "text/plain": [
       "<IPython.core.display.Math object>"
      ]
     },
     "metadata": {},
     "output_type": "display_data"
    },
    {
     "data": {
      "text/latex": [
       "$\\displaystyle \\Large 3 ^ {-2} = 0.111111$"
      ],
      "text/plain": [
       "<IPython.core.display.Math object>"
      ]
     },
     "metadata": {},
     "output_type": "display_data"
    },
    {
     "data": {
      "text/latex": [
       "$\\displaystyle \\Large 3 ^ {-3} = 0.037037$"
      ],
      "text/plain": [
       "<IPython.core.display.Math object>"
      ]
     },
     "metadata": {},
     "output_type": "display_data"
    },
    {
     "data": {
      "text/latex": [
       "$\\displaystyle \\Large 3 ^ {-4} = 0.0123457$"
      ],
      "text/plain": [
       "<IPython.core.display.Math object>"
      ]
     },
     "metadata": {},
     "output_type": "display_data"
    }
   ],
   "source": [
    "#Nested loops\n",
    "from IPython.display import  display, Math\n",
    "\n",
    "# display(Math(f'\\\\Large j^-6'))\n",
    "\n",
    "for i in range(0,4):\n",
    "    for j in range(0,5):\n",
    "        j_minus = -j\n",
    "        if ((i >0) and (j > 0)):\n",
    "            display(Math('\\\\Large %g ^ {%g} = %g' %(i, -j, i**-j)))"
   ]
  }
 ],
 "metadata": {
  "kernelspec": {
   "display_name": "Python 3",
   "language": "python",
   "name": "python3"
  },
  "language_info": {
   "codemirror_mode": {
    "name": "ipython",
    "version": 3
   },
   "file_extension": ".py",
   "mimetype": "text/x-python",
   "name": "python",
   "nbconvert_exporter": "python",
   "pygments_lexer": "ipython3",
   "version": "3.7.12"
  },
  "papermill": {
   "default_parameters": {},
   "duration": 8.177329,
   "end_time": "2023-01-24T09:56:11.309976",
   "environment_variables": {},
   "exception": null,
   "input_path": "__notebook__.ipynb",
   "output_path": "__notebook__.ipynb",
   "parameters": {},
   "start_time": "2023-01-24T09:56:03.132647",
   "version": "2.3.4"
  }
 },
 "nbformat": 4,
 "nbformat_minor": 5
}
