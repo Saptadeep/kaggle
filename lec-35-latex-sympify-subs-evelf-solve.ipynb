{
 "cells": [
  {
   "cell_type": "code",
   "execution_count": 1,
   "id": "307effb3",
   "metadata": {
    "_cell_guid": "b1076dfc-b9ad-4769-8c92-a6c4dae69d19",
    "_uuid": "8f2839f25d086af736a60e9eeb907d3b93b6e0e5",
    "execution": {
     "iopub.execute_input": "2023-04-13T06:36:32.878012Z",
     "iopub.status.busy": "2023-04-13T06:36:32.877655Z",
     "iopub.status.idle": "2023-04-13T06:36:34.430033Z",
     "shell.execute_reply": "2023-04-13T06:36:34.428653Z"
    },
    "papermill": {
     "duration": 1.558339,
     "end_time": "2023-04-13T06:36:34.432257",
     "exception": false,
     "start_time": "2023-04-13T06:36:32.873918",
     "status": "completed"
    },
    "tags": []
   },
   "outputs": [
    {
     "data": {
      "text/latex": [
       "$\\displaystyle \\left[ \\frac{1}{2} - \\frac{\\sqrt{7}}{2}, \\  \\frac{1}{2} + \\frac{\\sqrt{7}}{2}\\right]$"
      ],
      "text/plain": [
       "<IPython.core.display.Math object>"
      ]
     },
     "metadata": {},
     "output_type": "display_data"
    },
    {
     "data": {
      "text/latex": [
       "$\\displaystyle - 2 q + 2 + \\frac{3}{q}$"
      ],
      "text/plain": [
       "<IPython.core.display.Math object>"
      ]
     },
     "metadata": {},
     "output_type": "display_data"
    }
   ],
   "source": [
    "from IPython.display import display, Math\n",
    "import sympy as sym\n",
    "q = sym.symbols('q')\n",
    "expr = '3*q + 4/q + 3 - 5*q - 1/q-1' \n",
    "display(Math(sym.latex(sym.solve(expr, q))))\n",
    "display(Math(sym.latex(sym.sympify(expr))))"
   ]
  },
  {
   "cell_type": "code",
   "execution_count": 2,
   "id": "9d6d49c2",
   "metadata": {
    "execution": {
     "iopub.execute_input": "2023-04-13T06:36:34.438163Z",
     "iopub.status.busy": "2023-04-13T06:36:34.437501Z",
     "iopub.status.idle": "2023-04-13T06:36:34.470705Z",
     "shell.execute_reply": "2023-04-13T06:36:34.469008Z"
    },
    "papermill": {
     "duration": 0.03962,
     "end_time": "2023-04-13T06:36:34.473773",
     "exception": false,
     "start_time": "2023-04-13T06:36:34.434153",
     "status": "completed"
    },
    "tags": []
   },
   "outputs": [
    {
     "data": {
      "text/latex": [
       "$\\displaystyle \\frac{\\sqrt{15} q + \\sqrt{3}}{\\sqrt{10} q + \\sqrt{2}}$"
      ],
      "text/plain": [
       "<IPython.core.display.Math object>"
      ]
     },
     "metadata": {},
     "output_type": "display_data"
    },
    {
     "data": {
      "text/latex": [
       "$\\displaystyle \\frac{\\sqrt{3} + 9 \\sqrt{15}}{\\sqrt{2} + 9 \\sqrt{10}}$"
      ],
      "text/plain": [
       "<IPython.core.display.Math object>"
      ]
     },
     "metadata": {},
     "output_type": "display_data"
    },
    {
     "data": {
      "text/latex": [
       "$\\displaystyle 1.22474487139159$"
      ],
      "text/plain": [
       "<IPython.core.display.Math object>"
      ]
     },
     "metadata": {},
     "output_type": "display_data"
    }
   ],
   "source": [
    "from IPython.display import display, Math\n",
    "import sympy as sym\n",
    "\n",
    "q = sym.symbols('q')\n",
    "expr = (sym.sqrt(3) + sym.sqrt(15)*q) / (sym.sqrt(2) + sym.sqrt(10)*q)\n",
    "display(Math(sym.latex(expr)))\n",
    "expr.subs({q:9})\n",
    "display(Math(sym.latex(expr.subs({q:9}))))\n",
    "display(Math(sym.latex(expr.subs({q:9}).evalf())))\n",
    "\n"
   ]
  }
 ],
 "metadata": {
  "kernelspec": {
   "display_name": "Python 3",
   "language": "python",
   "name": "python3"
  },
  "language_info": {
   "codemirror_mode": {
    "name": "ipython",
    "version": 3
   },
   "file_extension": ".py",
   "mimetype": "text/x-python",
   "name": "python",
   "nbconvert_exporter": "python",
   "pygments_lexer": "ipython3",
   "version": "3.7.12"
  },
  "papermill": {
   "default_parameters": {},
   "duration": 12.695135,
   "end_time": "2023-04-13T06:36:35.299186",
   "environment_variables": {},
   "exception": null,
   "input_path": "__notebook__.ipynb",
   "output_path": "__notebook__.ipynb",
   "parameters": {},
   "start_time": "2023-04-13T06:36:22.604051",
   "version": "2.4.0"
  }
 },
 "nbformat": 4,
 "nbformat_minor": 5
}
