{
 "cells": [
  {
   "cell_type": "code",
   "execution_count": 1,
   "id": "e4559122",
   "metadata": {
    "_cell_guid": "b1076dfc-b9ad-4769-8c92-a6c4dae69d19",
    "_uuid": "8f2839f25d086af736a60e9eeb907d3b93b6e0e5",
    "execution": {
     "iopub.execute_input": "2023-04-13T15:52:46.727632Z",
     "iopub.status.busy": "2023-04-13T15:52:46.727106Z",
     "iopub.status.idle": "2023-04-13T15:52:48.023587Z",
     "shell.execute_reply": "2023-04-13T15:52:48.022314Z"
    },
    "papermill": {
     "duration": 1.304262,
     "end_time": "2023-04-13T15:52:48.026205",
     "exception": false,
     "start_time": "2023-04-13T15:52:46.721943",
     "status": "completed"
    },
    "tags": []
   },
   "outputs": [
    {
     "data": {
      "text/latex": [
       "$\\displaystyle \\left[ \\frac{1}{2} - \\frac{\\sqrt{7}}{2}, \\  \\frac{1}{2} + \\frac{\\sqrt{7}}{2}\\right]$"
      ],
      "text/plain": [
       "<IPython.core.display.Math object>"
      ]
     },
     "metadata": {},
     "output_type": "display_data"
    },
    {
     "data": {
      "text/latex": [
       "$\\displaystyle - 2 q + 2 + \\frac{3}{q}$"
      ],
      "text/plain": [
       "<IPython.core.display.Math object>"
      ]
     },
     "metadata": {},
     "output_type": "display_data"
    }
   ],
   "source": [
    "from IPython.display import display, Math\n",
    "import sympy as sym\n",
    "q = sym.symbols('q')\n",
    "expr = '3*q + 4/q + 3 - 5*q - 1/q-1' \n",
    "display(Math(sym.latex(sym.solve(expr, q))))\n",
    "display(Math(sym.latex(sym.sympify(expr))))"
   ]
  },
  {
   "cell_type": "code",
   "execution_count": 2,
   "id": "d2fb8f4b",
   "metadata": {
    "execution": {
     "iopub.execute_input": "2023-04-13T15:52:48.032981Z",
     "iopub.status.busy": "2023-04-13T15:52:48.032439Z",
     "iopub.status.idle": "2023-04-13T15:52:48.103547Z",
     "shell.execute_reply": "2023-04-13T15:52:48.102422Z"
    },
    "papermill": {
     "duration": 0.077818,
     "end_time": "2023-04-13T15:52:48.106562",
     "exception": false,
     "start_time": "2023-04-13T15:52:48.028744",
     "status": "completed"
    },
    "tags": []
   },
   "outputs": [
    {
     "data": {
      "text/latex": [
       "$\\displaystyle \\frac{\\sqrt{15} q + \\sqrt{3}}{\\sqrt{10} q + \\sqrt{2}}$"
      ],
      "text/plain": [
       "<IPython.core.display.Math object>"
      ]
     },
     "metadata": {},
     "output_type": "display_data"
    },
    {
     "data": {
      "text/latex": [
       "$\\displaystyle \\frac{\\sqrt{3} + 9 \\sqrt{15}}{\\sqrt{2} + 9 \\sqrt{10}}$"
      ],
      "text/plain": [
       "<IPython.core.display.Math object>"
      ]
     },
     "metadata": {},
     "output_type": "display_data"
    },
    {
     "data": {
      "text/latex": [
       "$\\displaystyle 1.22474487139159$"
      ],
      "text/plain": [
       "<IPython.core.display.Math object>"
      ]
     },
     "metadata": {},
     "output_type": "display_data"
    },
    {
     "data": {
      "text/latex": [
       "$\\displaystyle \\frac{\\sqrt{6}}{2}$"
      ],
      "text/plain": [
       "<IPython.core.display.Math object>"
      ]
     },
     "metadata": {},
     "output_type": "display_data"
    }
   ],
   "source": [
    "from IPython.display import display, Math\n",
    "import sympy as sym\n",
    "\n",
    "q = sym.symbols('q')\n",
    "expr = (sym.sqrt(3) + sym.sqrt(15)*q) / (sym.sqrt(2) + sym.sqrt(10)*q)\n",
    "display(Math(sym.latex(expr)))\n",
    "expr.subs({q:9})\n",
    "display(Math(sym.latex(expr.subs({q:9}))))\n",
    "display(Math(sym.latex(expr.subs({q:109}).evalf())))\n",
    "display(Math(sym.latex(sym.simplify(expr))))"
   ]
  },
  {
   "cell_type": "code",
   "execution_count": 3,
   "id": "2efb0dc4",
   "metadata": {
    "execution": {
     "iopub.execute_input": "2023-04-13T15:52:48.114019Z",
     "iopub.status.busy": "2023-04-13T15:52:48.113564Z",
     "iopub.status.idle": "2023-04-13T15:52:48.135195Z",
     "shell.execute_reply": "2023-04-13T15:52:48.134182Z"
    },
    "papermill": {
     "duration": 0.028844,
     "end_time": "2023-04-13T15:52:48.138339",
     "exception": false,
     "start_time": "2023-04-13T15:52:48.109495",
     "status": "completed"
    },
    "tags": []
   },
   "outputs": [
    {
     "data": {
      "text/latex": [
       "$\\displaystyle \\left(x - 1\\right)^{2}$"
      ],
      "text/plain": [
       "<IPython.core.display.Math object>"
      ]
     },
     "metadata": {},
     "output_type": "display_data"
    },
    {
     "data": {
      "text/latex": [
       "$\\displaystyle x^{4} - 4 x^{3} + 6 x^{2} - 4 x + 1$"
      ],
      "text/plain": [
       "<IPython.core.display.Math object>"
      ]
     },
     "metadata": {},
     "output_type": "display_data"
    }
   ],
   "source": [
    "from IPython.display import display, Math\n",
    "import sympy as sym\n",
    "from sympy.abc import x\n",
    "\n",
    "term1 = (x-1)**2\n",
    "\n",
    "display(Math(sym.latex((term1))))\n",
    "display(Math(sym.latex(sym.expand(term1*term1))))  "
   ]
  },
  {
   "cell_type": "code",
   "execution_count": 4,
   "id": "1b5138e4",
   "metadata": {
    "execution": {
     "iopub.execute_input": "2023-04-13T15:52:48.146134Z",
     "iopub.status.busy": "2023-04-13T15:52:48.145507Z",
     "iopub.status.idle": "2023-04-13T15:52:48.172802Z",
     "shell.execute_reply": "2023-04-13T15:52:48.171754Z"
    },
    "papermill": {
     "duration": 0.033894,
     "end_time": "2023-04-13T15:52:48.175257",
     "exception": false,
     "start_time": "2023-04-13T15:52:48.141363",
     "status": "completed"
    },
    "tags": []
   },
   "outputs": [
    {
     "data": {
      "text/latex": [
       "$\\displaystyle when \\; x = 0, \\; y = 0, \\; f(x, y ) = 8$"
      ],
      "text/plain": [
       "<IPython.core.display.Math object>"
      ]
     },
     "metadata": {},
     "output_type": "display_data"
    },
    {
     "data": {
      "text/latex": [
       "$\\displaystyle when \\; x = 0, \\; y = 1, \\; f(x, y ) = 4$"
      ],
      "text/plain": [
       "<IPython.core.display.Math object>"
      ]
     },
     "metadata": {},
     "output_type": "display_data"
    },
    {
     "data": {
      "text/latex": [
       "$\\displaystyle when \\; x = 0, \\; y = 2, \\; f(x, y ) = 0$"
      ],
      "text/plain": [
       "<IPython.core.display.Math object>"
      ]
     },
     "metadata": {},
     "output_type": "display_data"
    },
    {
     "data": {
      "text/latex": [
       "$\\displaystyle when \\; x = 1, \\; y = 0, \\; f(x, y ) = 10$"
      ],
      "text/plain": [
       "<IPython.core.display.Math object>"
      ]
     },
     "metadata": {},
     "output_type": "display_data"
    },
    {
     "data": {
      "text/latex": [
       "$\\displaystyle when \\; x = 1, \\; y = 1, \\; f(x, y ) = 5$"
      ],
      "text/plain": [
       "<IPython.core.display.Math object>"
      ]
     },
     "metadata": {},
     "output_type": "display_data"
    },
    {
     "data": {
      "text/latex": [
       "$\\displaystyle when \\; x = 1, \\; y = 2, \\; f(x, y ) = 0$"
      ],
      "text/plain": [
       "<IPython.core.display.Math object>"
      ]
     },
     "metadata": {},
     "output_type": "display_data"
    },
    {
     "data": {
      "text/latex": [
       "$\\displaystyle when \\; x = 2, \\; y = 0, \\; f(x, y ) = 12$"
      ],
      "text/plain": [
       "<IPython.core.display.Math object>"
      ]
     },
     "metadata": {},
     "output_type": "display_data"
    },
    {
     "data": {
      "text/latex": [
       "$\\displaystyle when \\; x = 2, \\; y = 1, \\; f(x, y ) = 6$"
      ],
      "text/plain": [
       "<IPython.core.display.Math object>"
      ]
     },
     "metadata": {},
     "output_type": "display_data"
    },
    {
     "data": {
      "text/latex": [
       "$\\displaystyle when \\; x = 2, \\; y = 2, \\; f(x, y ) = 0$"
      ],
      "text/plain": [
       "<IPython.core.display.Math object>"
      ]
     },
     "metadata": {},
     "output_type": "display_data"
    }
   ],
   "source": [
    "# Ref: https://www.udemy.com/course/math-with-python/learn/lecture/16210368#notes\n",
    "from IPython.display import display, Math\n",
    "import sympy as sym\n",
    "from sympy.abc import x, y\n",
    "\n",
    "func = (4+x) * (2-y)\n",
    "spread = range(0,3)\n",
    "\n",
    "for i1 in spread:\n",
    "    for i2 in spread:\n",
    "        disp = (sym.latex(func.subs({x:i1, y:i2})))\n",
    "        disp = f'when \\; x = {i1}, \\; y = {i2}, \\; f(x, y ) = {disp}'\n",
    "        display(Math((disp)))"
   ]
  }
 ],
 "metadata": {
  "kernelspec": {
   "display_name": "Python 3",
   "language": "python",
   "name": "python3"
  },
  "language_info": {
   "codemirror_mode": {
    "name": "ipython",
    "version": 3
   },
   "file_extension": ".py",
   "mimetype": "text/x-python",
   "name": "python",
   "nbconvert_exporter": "python",
   "pygments_lexer": "ipython3",
   "version": "3.7.12"
  },
  "papermill": {
   "default_parameters": {},
   "duration": 11.942962,
   "end_time": "2023-04-13T15:52:48.900351",
   "environment_variables": {},
   "exception": null,
   "input_path": "__notebook__.ipynb",
   "output_path": "__notebook__.ipynb",
   "parameters": {},
   "start_time": "2023-04-13T15:52:36.957389",
   "version": "2.4.0"
  }
 },
 "nbformat": 4,
 "nbformat_minor": 5
}
