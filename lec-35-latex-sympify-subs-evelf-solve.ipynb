{
 "cells": [
  {
   "cell_type": "code",
   "execution_count": 1,
   "id": "8419abfd",
   "metadata": {
    "_cell_guid": "b1076dfc-b9ad-4769-8c92-a6c4dae69d19",
    "_uuid": "8f2839f25d086af736a60e9eeb907d3b93b6e0e5",
    "execution": {
     "iopub.execute_input": "2023-04-13T11:15:56.594164Z",
     "iopub.status.busy": "2023-04-13T11:15:56.593739Z",
     "iopub.status.idle": "2023-04-13T11:15:58.032612Z",
     "shell.execute_reply": "2023-04-13T11:15:58.030930Z"
    },
    "papermill": {
     "duration": 1.447499,
     "end_time": "2023-04-13T11:15:58.036053",
     "exception": false,
     "start_time": "2023-04-13T11:15:56.588554",
     "status": "completed"
    },
    "tags": []
   },
   "outputs": [
    {
     "data": {
      "text/latex": [
       "$\\displaystyle \\left[ \\frac{1}{2} - \\frac{\\sqrt{7}}{2}, \\  \\frac{1}{2} + \\frac{\\sqrt{7}}{2}\\right]$"
      ],
      "text/plain": [
       "<IPython.core.display.Math object>"
      ]
     },
     "metadata": {},
     "output_type": "display_data"
    },
    {
     "data": {
      "text/latex": [
       "$\\displaystyle - 2 q + 2 + \\frac{3}{q}$"
      ],
      "text/plain": [
       "<IPython.core.display.Math object>"
      ]
     },
     "metadata": {},
     "output_type": "display_data"
    }
   ],
   "source": [
    "from IPython.display import display, Math\n",
    "import sympy as sym\n",
    "q = sym.symbols('q')\n",
    "expr = '3*q + 4/q + 3 - 5*q - 1/q-1' \n",
    "display(Math(sym.latex(sym.solve(expr, q))))\n",
    "display(Math(sym.latex(sym.sympify(expr))))"
   ]
  },
  {
   "cell_type": "code",
   "execution_count": 2,
   "id": "4ad07696",
   "metadata": {
    "execution": {
     "iopub.execute_input": "2023-04-13T11:15:58.044641Z",
     "iopub.status.busy": "2023-04-13T11:15:58.042921Z",
     "iopub.status.idle": "2023-04-13T11:15:58.125162Z",
     "shell.execute_reply": "2023-04-13T11:15:58.124042Z"
    },
    "papermill": {
     "duration": 0.088915,
     "end_time": "2023-04-13T11:15:58.127614",
     "exception": false,
     "start_time": "2023-04-13T11:15:58.038699",
     "status": "completed"
    },
    "tags": []
   },
   "outputs": [
    {
     "data": {
      "text/latex": [
       "$\\displaystyle \\frac{\\sqrt{15} q + \\sqrt{3}}{\\sqrt{10} q + \\sqrt{2}}$"
      ],
      "text/plain": [
       "<IPython.core.display.Math object>"
      ]
     },
     "metadata": {},
     "output_type": "display_data"
    },
    {
     "data": {
      "text/latex": [
       "$\\displaystyle \\frac{\\sqrt{3} + 9 \\sqrt{15}}{\\sqrt{2} + 9 \\sqrt{10}}$"
      ],
      "text/plain": [
       "<IPython.core.display.Math object>"
      ]
     },
     "metadata": {},
     "output_type": "display_data"
    },
    {
     "data": {
      "text/latex": [
       "$\\displaystyle 1.22474487139159$"
      ],
      "text/plain": [
       "<IPython.core.display.Math object>"
      ]
     },
     "metadata": {},
     "output_type": "display_data"
    },
    {
     "data": {
      "text/latex": [
       "$\\displaystyle \\frac{\\sqrt{6}}{2}$"
      ],
      "text/plain": [
       "<IPython.core.display.Math object>"
      ]
     },
     "metadata": {},
     "output_type": "display_data"
    }
   ],
   "source": [
    "from IPython.display import display, Math\n",
    "import sympy as sym\n",
    "\n",
    "q = sym.symbols('q')\n",
    "expr = (sym.sqrt(3) + sym.sqrt(15)*q) / (sym.sqrt(2) + sym.sqrt(10)*q)\n",
    "display(Math(sym.latex(expr)))\n",
    "expr.subs({q:9})\n",
    "display(Math(sym.latex(expr.subs({q:9}))))\n",
    "display(Math(sym.latex(expr.subs({q:109}).evalf())))\n",
    "display(Math(sym.latex(sym.simplify(expr))))"
   ]
  },
  {
   "cell_type": "code",
   "execution_count": 3,
   "id": "a14318ea",
   "metadata": {
    "execution": {
     "iopub.execute_input": "2023-04-13T11:15:58.135624Z",
     "iopub.status.busy": "2023-04-13T11:15:58.134707Z",
     "iopub.status.idle": "2023-04-13T11:15:58.160886Z",
     "shell.execute_reply": "2023-04-13T11:15:58.159458Z"
    },
    "papermill": {
     "duration": 0.033032,
     "end_time": "2023-04-13T11:15:58.163577",
     "exception": false,
     "start_time": "2023-04-13T11:15:58.130545",
     "status": "completed"
    },
    "tags": []
   },
   "outputs": [
    {
     "data": {
      "text/latex": [
       "$\\displaystyle \\left(x - 1\\right)^{2}$"
      ],
      "text/plain": [
       "<IPython.core.display.Math object>"
      ]
     },
     "metadata": {},
     "output_type": "display_data"
    },
    {
     "data": {
      "text/latex": [
       "$\\displaystyle x^{4} - 4 x^{3} + 6 x^{2} - 4 x + 1$"
      ],
      "text/plain": [
       "<IPython.core.display.Math object>"
      ]
     },
     "metadata": {},
     "output_type": "display_data"
    }
   ],
   "source": [
    "from IPython.display import display, Math\n",
    "import sympy as sym\n",
    "from sympy.abc import x\n",
    "\n",
    "term1 = (x-1)**2\n",
    "\n",
    "display(Math(sym.latex((term1))))\n",
    "display(Math(sym.latex(sym.expand(term1*term1))))   \n",
    "\n"
   ]
  }
 ],
 "metadata": {
  "kernelspec": {
   "display_name": "Python 3",
   "language": "python",
   "name": "python3"
  },
  "language_info": {
   "codemirror_mode": {
    "name": "ipython",
    "version": 3
   },
   "file_extension": ".py",
   "mimetype": "text/x-python",
   "name": "python",
   "nbconvert_exporter": "python",
   "pygments_lexer": "ipython3",
   "version": "3.7.12"
  },
  "papermill": {
   "default_parameters": {},
   "duration": 12.989568,
   "end_time": "2023-04-13T11:15:58.992072",
   "environment_variables": {},
   "exception": null,
   "input_path": "__notebook__.ipynb",
   "output_path": "__notebook__.ipynb",
   "parameters": {},
   "start_time": "2023-04-13T11:15:46.002504",
   "version": "2.4.0"
  }
 },
 "nbformat": 4,
 "nbformat_minor": 5
}
