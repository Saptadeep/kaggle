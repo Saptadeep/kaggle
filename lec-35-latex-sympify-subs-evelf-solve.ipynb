{
 "cells": [
  {
   "cell_type": "code",
   "execution_count": 1,
   "id": "5c90de39",
   "metadata": {
    "_cell_guid": "b1076dfc-b9ad-4769-8c92-a6c4dae69d19",
    "_uuid": "8f2839f25d086af736a60e9eeb907d3b93b6e0e5",
    "execution": {
     "iopub.execute_input": "2023-04-13T14:35:13.213823Z",
     "iopub.status.busy": "2023-04-13T14:35:13.213029Z",
     "iopub.status.idle": "2023-04-13T14:35:14.699057Z",
     "shell.execute_reply": "2023-04-13T14:35:14.697704Z"
    },
    "papermill": {
     "duration": 1.494289,
     "end_time": "2023-04-13T14:35:14.701844",
     "exception": false,
     "start_time": "2023-04-13T14:35:13.207555",
     "status": "completed"
    },
    "tags": []
   },
   "outputs": [
    {
     "data": {
      "text/latex": [
       "$\\displaystyle \\left[ \\frac{1}{2} - \\frac{\\sqrt{7}}{2}, \\  \\frac{1}{2} + \\frac{\\sqrt{7}}{2}\\right]$"
      ],
      "text/plain": [
       "<IPython.core.display.Math object>"
      ]
     },
     "metadata": {},
     "output_type": "display_data"
    },
    {
     "data": {
      "text/latex": [
       "$\\displaystyle - 2 q + 2 + \\frac{3}{q}$"
      ],
      "text/plain": [
       "<IPython.core.display.Math object>"
      ]
     },
     "metadata": {},
     "output_type": "display_data"
    }
   ],
   "source": [
    "from IPython.display import display, Math\n",
    "import sympy as sym\n",
    "q = sym.symbols('q')\n",
    "expr = '3*q + 4/q + 3 - 5*q - 1/q-1' \n",
    "display(Math(sym.latex(sym.solve(expr, q))))\n",
    "display(Math(sym.latex(sym.sympify(expr))))"
   ]
  },
  {
   "cell_type": "code",
   "execution_count": 2,
   "id": "c2af612d",
   "metadata": {
    "execution": {
     "iopub.execute_input": "2023-04-13T14:35:14.709148Z",
     "iopub.status.busy": "2023-04-13T14:35:14.708237Z",
     "iopub.status.idle": "2023-04-13T14:35:14.785995Z",
     "shell.execute_reply": "2023-04-13T14:35:14.784393Z"
    },
    "papermill": {
     "duration": 0.08439,
     "end_time": "2023-04-13T14:35:14.788916",
     "exception": false,
     "start_time": "2023-04-13T14:35:14.704526",
     "status": "completed"
    },
    "tags": []
   },
   "outputs": [
    {
     "data": {
      "text/latex": [
       "$\\displaystyle \\frac{\\sqrt{15} q + \\sqrt{3}}{\\sqrt{10} q + \\sqrt{2}}$"
      ],
      "text/plain": [
       "<IPython.core.display.Math object>"
      ]
     },
     "metadata": {},
     "output_type": "display_data"
    },
    {
     "data": {
      "text/latex": [
       "$\\displaystyle \\frac{\\sqrt{3} + 9 \\sqrt{15}}{\\sqrt{2} + 9 \\sqrt{10}}$"
      ],
      "text/plain": [
       "<IPython.core.display.Math object>"
      ]
     },
     "metadata": {},
     "output_type": "display_data"
    },
    {
     "data": {
      "text/latex": [
       "$\\displaystyle 1.22474487139159$"
      ],
      "text/plain": [
       "<IPython.core.display.Math object>"
      ]
     },
     "metadata": {},
     "output_type": "display_data"
    },
    {
     "data": {
      "text/latex": [
       "$\\displaystyle \\frac{\\sqrt{6}}{2}$"
      ],
      "text/plain": [
       "<IPython.core.display.Math object>"
      ]
     },
     "metadata": {},
     "output_type": "display_data"
    }
   ],
   "source": [
    "from IPython.display import display, Math\n",
    "import sympy as sym\n",
    "\n",
    "q = sym.symbols('q')\n",
    "expr = (sym.sqrt(3) + sym.sqrt(15)*q) / (sym.sqrt(2) + sym.sqrt(10)*q)\n",
    "display(Math(sym.latex(expr)))\n",
    "expr.subs({q:9})\n",
    "display(Math(sym.latex(expr.subs({q:9}))))\n",
    "display(Math(sym.latex(expr.subs({q:109}).evalf())))\n",
    "display(Math(sym.latex(sym.simplify(expr))))"
   ]
  },
  {
   "cell_type": "code",
   "execution_count": 3,
   "id": "464a6568",
   "metadata": {
    "execution": {
     "iopub.execute_input": "2023-04-13T14:35:14.796738Z",
     "iopub.status.busy": "2023-04-13T14:35:14.796148Z",
     "iopub.status.idle": "2023-04-13T14:35:14.820870Z",
     "shell.execute_reply": "2023-04-13T14:35:14.819541Z"
    },
    "papermill": {
     "duration": 0.031725,
     "end_time": "2023-04-13T14:35:14.823645",
     "exception": false,
     "start_time": "2023-04-13T14:35:14.791920",
     "status": "completed"
    },
    "tags": []
   },
   "outputs": [
    {
     "data": {
      "text/latex": [
       "$\\displaystyle \\left(x - 1\\right)^{2}$"
      ],
      "text/plain": [
       "<IPython.core.display.Math object>"
      ]
     },
     "metadata": {},
     "output_type": "display_data"
    },
    {
     "data": {
      "text/latex": [
       "$\\displaystyle x^{4} - 4 x^{3} + 6 x^{2} - 4 x + 1$"
      ],
      "text/plain": [
       "<IPython.core.display.Math object>"
      ]
     },
     "metadata": {},
     "output_type": "display_data"
    }
   ],
   "source": [
    "from IPython.display import display, Math\n",
    "import sympy as sym\n",
    "from sympy.abc import x\n",
    "\n",
    "term1 = (x-1)**2\n",
    "\n",
    "display(Math(sym.latex((term1))))\n",
    "display(Math(sym.latex(sym.expand(term1*term1))))  "
   ]
  },
  {
   "cell_type": "code",
   "execution_count": 4,
   "id": "f9b1de53",
   "metadata": {
    "execution": {
     "iopub.execute_input": "2023-04-13T14:35:14.831869Z",
     "iopub.status.busy": "2023-04-13T14:35:14.831411Z",
     "iopub.status.idle": "2023-04-13T14:35:14.863785Z",
     "shell.execute_reply": "2023-04-13T14:35:14.862612Z"
    },
    "papermill": {
     "duration": 0.039503,
     "end_time": "2023-04-13T14:35:14.866299",
     "exception": false,
     "start_time": "2023-04-13T14:35:14.826796",
     "status": "completed"
    },
    "tags": []
   },
   "outputs": [
    {
     "data": {
      "text/latex": [
       "$\\displaystyle for\\;x = 0, \\; y = 0, \\; f(x, y ) = 26$"
      ],
      "text/plain": [
       "<IPython.core.display.Math object>"
      ]
     },
     "metadata": {},
     "output_type": "display_data"
    },
    {
     "data": {
      "text/latex": [
       "$\\displaystyle for\\;x = 0, \\; y = 1, \\; f(x, y ) = 25$"
      ],
      "text/plain": [
       "<IPython.core.display.Math object>"
      ]
     },
     "metadata": {},
     "output_type": "display_data"
    },
    {
     "data": {
      "text/latex": [
       "$\\displaystyle for\\;x = 0, \\; y = 2, \\; f(x, y ) = 24$"
      ],
      "text/plain": [
       "<IPython.core.display.Math object>"
      ]
     },
     "metadata": {},
     "output_type": "display_data"
    },
    {
     "data": {
      "text/latex": [
       "$\\displaystyle for\\;x = 1, \\; y = 0, \\; f(x, y ) = 27$"
      ],
      "text/plain": [
       "<IPython.core.display.Math object>"
      ]
     },
     "metadata": {},
     "output_type": "display_data"
    },
    {
     "data": {
      "text/latex": [
       "$\\displaystyle for\\;x = 1, \\; y = 1, \\; f(x, y ) = 26$"
      ],
      "text/plain": [
       "<IPython.core.display.Math object>"
      ]
     },
     "metadata": {},
     "output_type": "display_data"
    },
    {
     "data": {
      "text/latex": [
       "$\\displaystyle for\\;x = 1, \\; y = 2, \\; f(x, y ) = 25$"
      ],
      "text/plain": [
       "<IPython.core.display.Math object>"
      ]
     },
     "metadata": {},
     "output_type": "display_data"
    },
    {
     "data": {
      "text/latex": [
       "$\\displaystyle for\\;x = 2, \\; y = 0, \\; f(x, y ) = 28$"
      ],
      "text/plain": [
       "<IPython.core.display.Math object>"
      ]
     },
     "metadata": {},
     "output_type": "display_data"
    },
    {
     "data": {
      "text/latex": [
       "$\\displaystyle for\\;x = 2, \\; y = 1, \\; f(x, y ) = 27$"
      ],
      "text/plain": [
       "<IPython.core.display.Math object>"
      ]
     },
     "metadata": {},
     "output_type": "display_data"
    },
    {
     "data": {
      "text/latex": [
       "$\\displaystyle for\\;x = 2, \\; y = 2, \\; f(x, y ) = 26$"
      ],
      "text/plain": [
       "<IPython.core.display.Math object>"
      ]
     },
     "metadata": {},
     "output_type": "display_data"
    }
   ],
   "source": [
    "from IPython.display import display, Math\n",
    "import sympy as sym\n",
    "from sympy.abc import x, y\n",
    "\n",
    "func = (3+x) + (23-y)\n",
    "spread = range(0,3)\n",
    "\n",
    "for i1 in spread:\n",
    "    for i2 in spread:\n",
    "        disp = (sym.latex(func.subs({x:i1, y:i2})))\n",
    "        disp = f'for\\;x = {i1}, \\; y = {i2}, \\; f(x, y ) = {disp}'\n",
    "        display(Math(disp))\n",
    "        \n",
    "\n",
    "\n",
    "\n"
   ]
  }
 ],
 "metadata": {
  "kernelspec": {
   "display_name": "Python 3",
   "language": "python",
   "name": "python3"
  },
  "language_info": {
   "codemirror_mode": {
    "name": "ipython",
    "version": 3
   },
   "file_extension": ".py",
   "mimetype": "text/x-python",
   "name": "python",
   "nbconvert_exporter": "python",
   "pygments_lexer": "ipython3",
   "version": "3.7.12"
  },
  "papermill": {
   "default_parameters": {},
   "duration": 13.79754,
   "end_time": "2023-04-13T14:35:15.693166",
   "environment_variables": {},
   "exception": null,
   "input_path": "__notebook__.ipynb",
   "output_path": "__notebook__.ipynb",
   "parameters": {},
   "start_time": "2023-04-13T14:35:01.895626",
   "version": "2.4.0"
  }
 },
 "nbformat": 4,
 "nbformat_minor": 5
}
