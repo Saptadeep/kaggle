{
 "cells": [
  {
   "cell_type": "code",
   "execution_count": 1,
   "id": "a7ffc0c8",
   "metadata": {
    "_cell_guid": "b1076dfc-b9ad-4769-8c92-a6c4dae69d19",
    "_uuid": "8f2839f25d086af736a60e9eeb907d3b93b6e0e5",
    "execution": {
     "iopub.execute_input": "2023-04-23T14:24:26.863075Z",
     "iopub.status.busy": "2023-04-23T14:24:26.862632Z",
     "iopub.status.idle": "2023-04-23T14:24:26.929608Z",
     "shell.execute_reply": "2023-04-23T14:24:26.928198Z"
    },
    "papermill": {
     "duration": 0.074881,
     "end_time": "2023-04-23T14:24:26.932618",
     "exception": false,
     "start_time": "2023-04-23T14:24:26.857737",
     "status": "completed"
    },
    "tags": []
   },
   "outputs": [
    {
     "data": {
      "text/plain": [
       "'arry: [10, 11, 12, 13, 14, 15, 16, 17, 18, 19, 20, 21, 22, 23, 24, 25, 26, 27, 28, 29]'"
      ]
     },
     "metadata": {},
     "output_type": "display_data"
    },
    {
     "data": {
      "text/plain": [
       "'arry[-1]: 29'"
      ]
     },
     "metadata": {},
     "output_type": "display_data"
    },
    {
     "data": {
      "text/plain": [
       "'arry[-2]: 28'"
      ]
     },
     "metadata": {},
     "output_type": "display_data"
    },
    {
     "data": {
      "text/plain": [
       "'arry[1:2]: [11]'"
      ]
     },
     "metadata": {},
     "output_type": "display_data"
    },
    {
     "data": {
      "text/plain": [
       "'arry[1:-2]: [11, 12, 13, 14, 15, 16, 17, 18, 19, 20, 21, 22, 23, 24, 25, 26, 27]'"
      ]
     },
     "metadata": {},
     "output_type": "display_data"
    },
    {
     "data": {
      "text/plain": [
       "'arry[-3:-2]: [27]'"
      ]
     },
     "metadata": {},
     "output_type": "display_data"
    },
    {
     "data": {
      "text/plain": [
       "'arry[-1:-9]: [21, 22, 23, 24]'"
      ]
     },
     "metadata": {},
     "output_type": "display_data"
    },
    {
     "data": {
      "text/plain": [
       "'arry[:-6]: [10, 11, 12, 13, 14, 15, 16, 17, 18, 19, 20, 21, 22, 23]'"
      ]
     },
     "metadata": {},
     "output_type": "display_data"
    },
    {
     "data": {
      "text/plain": [
       "'Start element[0]: 10'"
      ]
     },
     "metadata": {},
     "output_type": "display_data"
    },
    {
     "data": {
      "text/plain": [
       "'End element[-6+(-1)]: 23'"
      ]
     },
     "metadata": {},
     "output_type": "display_data"
    },
    {
     "data": {
      "text/plain": [
       "'arry[-5:]: [25, 26, 27, 28, 29]'"
      ]
     },
     "metadata": {},
     "output_type": "display_data"
    },
    {
     "data": {
      "text/plain": [
       "'Start element[-5]: 25'"
      ]
     },
     "metadata": {},
     "output_type": "display_data"
    },
    {
     "data": {
      "text/plain": [
       "'End element[0+(-1)]: 29'"
      ]
     },
     "metadata": {},
     "output_type": "display_data"
    },
    {
     "data": {
      "text/plain": [
       "'arry: [10, 11, 12, 13, 14, 15, 16, 17, 18, 19, 20, 21, 22, 23, 24, 25, 26, 27, 28, 29]'"
      ]
     },
     "metadata": {},
     "output_type": "display_data"
    },
    {
     "data": {
      "text/plain": [
       "'arry[2:-8]: [12, 13, 14, 15, 16, 17, 18, 19, 20, 21]'"
      ]
     },
     "metadata": {},
     "output_type": "display_data"
    },
    {
     "data": {
      "text/plain": [
       "'Start element[2]: 12'"
      ]
     },
     "metadata": {},
     "output_type": "display_data"
    },
    {
     "data": {
      "text/plain": [
       "'End element[-8+(-1)]: 21'"
      ]
     },
     "metadata": {},
     "output_type": "display_data"
    },
    {
     "data": {
      "text/plain": [
       "'REMEMBER: The last element is always arry[-1], second last is: arry[-2], so on...'"
      ]
     },
     "metadata": {},
     "output_type": "display_data"
    },
    {
     "data": {
      "text/plain": [
       "'arry: [10, 11, 12, 13, 14, 15, 16, 17, 18, 19, 20, 21, 22, 23, 24, 25, 26, 27, 28, 29]'"
      ]
     },
     "metadata": {},
     "output_type": "display_data"
    },
    {
     "data": {
      "text/plain": [
       "'arry[2:7]: [12, 13, 14, 15, 16, 17]'"
      ]
     },
     "metadata": {},
     "output_type": "display_data"
    },
    {
     "data": {
      "text/plain": [
       "'Start element[2]: 12'"
      ]
     },
     "metadata": {},
     "output_type": "display_data"
    },
    {
     "data": {
      "text/plain": [
       "'End element[8+(-1)]: 17'"
      ]
     },
     "metadata": {},
     "output_type": "display_data"
    }
   ],
   "source": [
    "from IPython.display import Math\n",
    "from IPython.display import display as d\n",
    "\n",
    "arry = list(range(10,30))\n",
    "d(f'arry: {arry}')\n",
    "d(f'arry[-1]: {arry[-1]}') #When slicing using SINGLE negative subscripting, -1 is always the last element.\n",
    "d(f'arry[-2]: {arry[-2]}') #Slicing using SINGLE negative subscripting, -2 is always the second last element.\n",
    "\n",
    "# In RANGE based slicing subscripting, always add (-1) to the second subscript to get the exact stop element of the array.\n",
    "# So,\n",
    "#  arry[-1:-9] starts showing element at arry[-1] and ends at the element arry[-9-1] i.e. arry[-10]  \n",
    "\n",
    "d(f'arry[1:2]: {arry[1:2]}') #Here arry[1:2] means that the stop element is [2-1=1] = arry[1]. When slicing using RANGED subscripting, first subscript is exact python index, (i.e 0 starting).\n",
    "\n",
    "#When slicing using RANGE subscripts, end element is [second subscript plus (-1)].\n",
    "#In arry[1:-2] second subscript -2 so element is arry[-2+(-1)] = arry[-3]. Output: Start at arry[1] continue until element at arry[-3]. NOTE: Will include element at arry[-3].\n",
    "d(f'arry[1:-2]: {arry[1:-2]}') #When slicing using RANGE subscripts, end element is [second subscript plus  (-1)].\n",
    "d(f'arry[-3:-2]: {arry[-3:-2]}') #When slicing using RANGE subscripts, end element is [second subscript plus (-1)].\n",
    "d(f'arry[-1:-9]: {arry[-9:-5]}') #starts showing from element at arry[-1] and ends at the element arry[-5+(-1)] i.e. arry[-6] \n",
    "d(f'arry[:-6]: {arry[:-6]}') #starts showing from element at arry[-9] and ends at the element arry[-5+(-1)] i.e. arry[-6] \n",
    "d(f'Start element[0]: {arry[0]}') #No change in  subscript for first element \n",
    "d(f'End element[-6+(-1)]: {arry[-6+(-1)]}') #Addng -1 to the second subscript for the end element\n",
    "\n",
    "d(f'arry[-5:]: {arry[-5:]}') #starts showing from element at arry[-9] and ends at the element arry[-5-1] i.e. arry[-6] \n",
    "d(f'Start element[-5]: {arry[-5]}')\n",
    "d(f'End element[0+(-1)]: {arry[0+(-1)]}') #Addng -1 to the second subscript to get the end element\n",
    "\n",
    "d(f'arry: {arry}')\n",
    "d(f'arry[2:-8]: {arry[2:-8]}') #Slicing based on RANGE subscript\n",
    "d(f'Start element[2]: {arry[2]}') #No change in  subscript for start element \n",
    "d(f'End element[-8+(-1)]: {arry[-8+(-1)]}') #Addng -1 to the second subscript to get the end element\n",
    "\n",
    "d(f'REMEMBER: The last element is always arry[-1], second last is: arry[-2], so on...')\n",
    "d(f'arry: {arry}')\n",
    "d(f'arry[2:7]: {arry[2:8]}') #Slicing based on RANGE subscript\n",
    "d(f'Start element[2]: {arry[2]}') #No change in  subscript for start element \n",
    "d(f'End element[8+(-1)]: {arry[8+(-1)]}') #Addng -1 to the second subscript to get the end element"
   ]
  },
  {
   "cell_type": "code",
   "execution_count": 2,
   "id": "016da433",
   "metadata": {
    "execution": {
     "iopub.execute_input": "2023-04-23T14:24:26.943242Z",
     "iopub.status.busy": "2023-04-23T14:24:26.942789Z",
     "iopub.status.idle": "2023-04-23T14:24:26.964728Z",
     "shell.execute_reply": "2023-04-23T14:24:26.963652Z"
    },
    "papermill": {
     "duration": 0.03022,
     "end_time": "2023-04-23T14:24:26.967323",
     "exception": false,
     "start_time": "2023-04-23T14:24:26.937103",
     "status": "completed"
    },
    "tags": []
   },
   "outputs": [
    {
     "data": {
      "text/plain": [
       "'arry: [10, 11, 12, 13, 14, 15, 16, 17, 18, 19, 20, 21, 22, 23, 24, 25, 26, 27, 28, 29]'"
      ]
     },
     "metadata": {},
     "output_type": "display_data"
    },
    {
     "data": {
      "text/plain": [
       "'arry: [28, 27, 26]'"
      ]
     },
     "metadata": {},
     "output_type": "display_data"
    },
    {
     "data": {
      "text/plain": [
       "'arry: [25, 26, 27, 28]'"
      ]
     },
     "metadata": {},
     "output_type": "display_data"
    },
    {
     "data": {
      "text/plain": [
       "'arry[1:7:-1] [29, 28, 27, 26, 25, 24, 23, 22, 21, 20, 19, 18, 17, 16, 15, 14, 13, 12, 11, 10]'"
      ]
     },
     "metadata": {},
     "output_type": "display_data"
    },
    {
     "data": {
      "text/plain": [
       "'[29, 28, 27, 26, 25, 24, 23, 22, 21, 20, 19, 18, 17, 16, 15, 14, 13, 12, 11, 10]'"
      ]
     },
     "metadata": {},
     "output_type": "display_data"
    },
    {
     "data": {
      "text/plain": [
       "'[29, 28, 27, 26, 25, 24, 23, 22, 21, 20, 19, 18, 17, 16, 15, 14, 13, 12, 11, 10]'"
      ]
     },
     "metadata": {},
     "output_type": "display_data"
    },
    {
     "data": {
      "text/plain": [
       "'[28, 29]'"
      ]
     },
     "metadata": {},
     "output_type": "display_data"
    }
   ],
   "source": [
    "from IPython.display import Math\n",
    "from IPython.display import display as d\n",
    "\n",
    "arry = list(range(10,30))\n",
    "d(f'arry: {arry}')\n",
    "\n",
    "d(f'arry: {arry[-2:-5:-1]}')#When the step is negative then add +1 to the second subscript and the expression prints in reverse order\n",
    "d(f'arry: {arry[-5:-1:]}') #When the step is not-negative so addng -1 to the second subscript\n",
    "d(f'arry[1:7:-1] {arry[-1:-28:-1]}')\n",
    "d(f'{arry[-1::-1]}')\n",
    "d(f'{arry[::-1]}')\n",
    "d(f'{arry[-2:]}')\n",
    "\n",
    "\n"
   ]
  }
 ],
 "metadata": {
  "kernelspec": {
   "display_name": "Python 3",
   "language": "python",
   "name": "python3"
  },
  "language_info": {
   "codemirror_mode": {
    "name": "ipython",
    "version": 3
   },
   "file_extension": ".py",
   "mimetype": "text/x-python",
   "name": "python",
   "nbconvert_exporter": "python",
   "pygments_lexer": "ipython3",
   "version": "3.7.12"
  },
  "papermill": {
   "default_parameters": {},
   "duration": 11.651237,
   "end_time": "2023-04-23T14:24:27.694947",
   "environment_variables": {},
   "exception": null,
   "input_path": "__notebook__.ipynb",
   "output_path": "__notebook__.ipynb",
   "parameters": {},
   "start_time": "2023-04-23T14:24:16.043710",
   "version": "2.4.0"
  }
 },
 "nbformat": 4,
 "nbformat_minor": 5
}
