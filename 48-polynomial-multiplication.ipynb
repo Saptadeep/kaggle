{
 "cells": [
  {
   "cell_type": "code",
   "execution_count": 1,
   "id": "e30b2e8a",
   "metadata": {
    "_cell_guid": "b1076dfc-b9ad-4769-8c92-a6c4dae69d19",
    "_uuid": "8f2839f25d086af736a60e9eeb907d3b93b6e0e5",
    "execution": {
     "iopub.execute_input": "2023-04-29T02:56:37.401594Z",
     "iopub.status.busy": "2023-04-29T02:56:37.400819Z",
     "iopub.status.idle": "2023-04-29T02:56:38.426658Z",
     "shell.execute_reply": "2023-04-29T02:56:38.425274Z"
    },
    "papermill": {
     "duration": 1.03466,
     "end_time": "2023-04-29T02:56:38.431042",
     "exception": false,
     "start_time": "2023-04-29T02:56:37.396382",
     "status": "completed"
    },
    "tags": []
   },
   "outputs": [
    {
     "data": {
      "text/plain": [
       "'SUBSTITUTING AFTER MULTIPLYING: -1085833.80000000'"
      ]
     },
     "metadata": {},
     "output_type": "display_data"
    },
    {
     "data": {
      "text/plain": [
       "'SUBSTITUTING BEFORE MULTIPLYING: -1085833.80000000'"
      ]
     },
     "metadata": {},
     "output_type": "display_data"
    }
   ],
   "source": [
    "from IPython.display import display as d, Math\n",
    "import sympy as sym\n",
    "from sympy.abc import x,y\n",
    "\n",
    "poly1 = sym.poly(4*x**4 - 3*x**2 + x*y**2 - 9*y**3)\n",
    "poly2 = sym.poly(-x**3 + 6*x**2*y + 0.8*y**3)\n",
    "\n",
    "poly_mul = (poly1 * poly2)\n",
    "d(f'SUBSTITUTING AFTER MULTIPLYING: {poly_mul.subs({x:5, y:-2})}')\n",
    "d(f'SUBSTITUTING BEFORE MULTIPLYING: {(poly1.subs({x:5, y:-2})) * (poly2.subs({x:5, y:-2}))}')"
   ]
  }
 ],
 "metadata": {
  "kernelspec": {
   "display_name": "Python 3",
   "language": "python",
   "name": "python3"
  },
  "language_info": {
   "codemirror_mode": {
    "name": "ipython",
    "version": 3
   },
   "file_extension": ".py",
   "mimetype": "text/x-python",
   "name": "python",
   "nbconvert_exporter": "python",
   "pygments_lexer": "ipython3",
   "version": "3.7.12"
  },
  "papermill": {
   "default_parameters": {},
   "duration": 12.973383,
   "end_time": "2023-04-29T02:56:39.258088",
   "environment_variables": {},
   "exception": null,
   "input_path": "__notebook__.ipynb",
   "output_path": "__notebook__.ipynb",
   "parameters": {},
   "start_time": "2023-04-29T02:56:26.284705",
   "version": "2.4.0"
  }
 },
 "nbformat": 4,
 "nbformat_minor": 5
}
