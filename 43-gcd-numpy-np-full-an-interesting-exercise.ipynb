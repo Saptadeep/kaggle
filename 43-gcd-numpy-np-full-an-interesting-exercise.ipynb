{
 "cells": [
  {
   "cell_type": "code",
   "execution_count": 1,
   "id": "66811003",
   "metadata": {
    "_cell_guid": "b1076dfc-b9ad-4769-8c92-a6c4dae69d19",
    "_uuid": "8f2839f25d086af736a60e9eeb907d3b93b6e0e5",
    "execution": {
     "iopub.execute_input": "2023-04-25T17:18:30.689423Z",
     "iopub.status.busy": "2023-04-25T17:18:30.688373Z",
     "iopub.status.idle": "2023-04-25T17:18:31.735287Z",
     "shell.execute_reply": "2023-04-25T17:18:31.734177Z"
    },
    "papermill": {
     "duration": 1.054647,
     "end_time": "2023-04-25T17:18:31.738096",
     "exception": false,
     "start_time": "2023-04-25T17:18:30.683449",
     "status": "completed"
    },
    "tags": []
   },
   "outputs": [
    {
     "data": {
      "text/plain": [
       "True"
      ]
     },
     "execution_count": 1,
     "metadata": {},
     "output_type": "execute_result"
    }
   ],
   "source": [
    "from IPython.display import display, Math\n",
    "import sympy as sym\n",
    "from sympy.abc import a, b, c\n",
    "\n",
    "\n",
    "\n",
    "# sym.gcd(c*a,c*b) = c*(sym.gcd(c*a,c*b)\n",
    "sym.gcd(c*a,c*b) == c*(sym.gcd(a,b))\n",
    "\n",
    "\n"
   ]
  },
  {
   "cell_type": "code",
   "execution_count": 2,
   "id": "1b8d0513",
   "metadata": {
    "execution": {
     "iopub.execute_input": "2023-04-25T17:18:31.745110Z",
     "iopub.status.busy": "2023-04-25T17:18:31.743744Z",
     "iopub.status.idle": "2023-04-25T17:18:31.776468Z",
     "shell.execute_reply": "2023-04-25T17:18:31.775208Z"
    },
    "papermill": {
     "duration": 0.038463,
     "end_time": "2023-04-25T17:18:31.778953",
     "exception": false,
     "start_time": "2023-04-25T17:18:31.740490",
     "status": "completed"
    },
    "tags": []
   },
   "outputs": [
    {
     "data": {
      "text/plain": [
       "array([[99, 99, 99, 99, 99, 99, 99, 99, 99, 99, 99, 99, 99, 99, 99],\n",
       "       [99, 99, 99, 99, 99, 99, 99, 99, 99, 99, 99, 99, 99, 99, 99],\n",
       "       [99, 99, 99, 99, 99, 99, 99, 99, 99, 99, 99, 99, 99, 99, 99],\n",
       "       [99, 99, 99, 99, 99, 99, 99, 99, 99, 99, 99, 99, 99, 99, 99],\n",
       "       [99, 99, 99, 99, 99, 99, 99, 99, 99, 99, 99, 99, 99, 99, 99],\n",
       "       [99, 99, 99, 99, 99, 99, 99, 99, 99, 99, 99, 99, 99, 99, 99],\n",
       "       [99, 99, 99, 99, 99, 99, 99, 99, 99, 99, 99, 99, 99, 99, 99],\n",
       "       [99, 99, 99, 99, 99, 99, 99, 99, 99, 99, 99, 99, 99, 99, 99],\n",
       "       [99, 99, 99, 99, 99, 99, 99, 99, 99, 99, 99, 99, 99, 99, 99],\n",
       "       [99, 99, 99, 99, 99, 99, 99, 99, 99, 99, 99, 99, 99, 99, 99]])"
      ]
     },
     "metadata": {},
     "output_type": "display_data"
    },
    {
     "data": {
      "text/plain": [
       "array([[ 1,  1,  1,  1,  1,  1,  1,  1,  1,  1,  1,  1,  1,  1,  1],\n",
       "       [ 1,  2,  1,  2,  1,  2,  1,  2,  1,  2,  1,  2,  1,  2,  1],\n",
       "       [ 1,  1,  3,  1,  1,  3,  1,  1,  3,  1,  1,  3,  1,  1,  3],\n",
       "       [ 1,  2,  1,  4,  1,  2,  1,  4,  1,  2,  1,  4,  1,  2,  1],\n",
       "       [ 1,  1,  1,  1,  5,  1,  1,  1,  1,  5,  1,  1,  1,  1,  5],\n",
       "       [ 1,  2,  3,  2,  1,  6,  1,  2,  3,  2,  1,  6,  1,  2,  3],\n",
       "       [ 1,  1,  1,  1,  1,  1,  7,  1,  1,  1,  1,  1,  1,  7,  1],\n",
       "       [ 1,  2,  1,  4,  1,  2,  1,  8,  1,  2,  1,  4,  1,  2,  1],\n",
       "       [ 1,  1,  3,  1,  1,  3,  1,  1,  9,  1,  1,  3,  1,  1,  3],\n",
       "       [ 1,  2,  1,  2,  5,  2,  1,  2,  1, 10,  1,  2,  1,  2,  5]])"
      ]
     },
     "metadata": {},
     "output_type": "display_data"
    }
   ],
   "source": [
    "from IPython.display import display as d, Math\n",
    "import sympy as sym\n",
    "from sympy.abc import a, b, c\n",
    "\n",
    "import numpy as np\n",
    "\n",
    "num_arry = np.full((10,15),99)\n",
    "\n",
    "#ORIGINAL:\n",
    "d(num_arry)\n",
    "\n",
    "for i in range(10):\n",
    "    for j in range(15):\n",
    "        num_arry[i,j] = sym.gcd(i+1,j+1)\n",
    "\n",
    "#MODIFIED:\n",
    "d(num_arry)"
   ]
  },
  {
   "cell_type": "code",
   "execution_count": 3,
   "id": "c03aaed9",
   "metadata": {
    "execution": {
     "iopub.execute_input": "2023-04-25T17:18:31.785376Z",
     "iopub.status.busy": "2023-04-25T17:18:31.784952Z",
     "iopub.status.idle": "2023-04-25T17:18:31.791044Z",
     "shell.execute_reply": "2023-04-25T17:18:31.789930Z"
    },
    "papermill": {
     "duration": 0.012796,
     "end_time": "2023-04-25T17:18:31.794159",
     "exception": false,
     "start_time": "2023-04-25T17:18:31.781363",
     "status": "completed"
    },
    "tags": []
   },
   "outputs": [],
   "source": [
    "import math\n",
    "from IPython.display import display as d, Math\n",
    "from sympy.abc import x, y, X, Y, pi\n",
    "import sympy as sym\n",
    "# math_exprs = {expr_solve_in_X : 4*x - 6, x**2 - 9, expr3 : sym.sin(y)}\n",
    "# math_exprs = {expr1 : 4*x - 6, expr2 : x**2 - 9, expr3 : sym.sin(y)}\n",
    "\n",
    "\n",
    "# for k in math_exprs:\n",
    "# #         d(Math(f'sym.latex(math_exprs[k]) \\\\Longleftrightarrow )')\n",
    "#         d(Math(f'{sym.latex(math_exprs[k])} =  0 \\\\Rightarrow {sym.latex(sym.solve(math_exprs[k]))}'))\n",
    "\n"
   ]
  }
 ],
 "metadata": {
  "kernelspec": {
   "display_name": "Python 3",
   "language": "python",
   "name": "python3"
  },
  "language_info": {
   "codemirror_mode": {
    "name": "ipython",
    "version": 3
   },
   "file_extension": ".py",
   "mimetype": "text/x-python",
   "name": "python",
   "nbconvert_exporter": "python",
   "pygments_lexer": "ipython3",
   "version": "3.7.12"
  },
  "papermill": {
   "default_parameters": {},
   "duration": 12.985572,
   "end_time": "2023-04-25T17:18:32.518976",
   "environment_variables": {},
   "exception": null,
   "input_path": "__notebook__.ipynb",
   "output_path": "__notebook__.ipynb",
   "parameters": {},
   "start_time": "2023-04-25T17:18:19.533404",
   "version": "2.4.0"
  }
 },
 "nbformat": 4,
 "nbformat_minor": 5
}
