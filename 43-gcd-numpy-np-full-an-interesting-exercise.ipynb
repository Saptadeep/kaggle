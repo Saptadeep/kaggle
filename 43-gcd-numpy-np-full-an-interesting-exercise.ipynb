{
 "cells": [
  {
   "cell_type": "code",
   "execution_count": 1,
   "id": "2e39a186",
   "metadata": {
    "_cell_guid": "b1076dfc-b9ad-4769-8c92-a6c4dae69d19",
    "_uuid": "8f2839f25d086af736a60e9eeb907d3b93b6e0e5",
    "execution": {
     "iopub.execute_input": "2023-04-25T17:27:45.180824Z",
     "iopub.status.busy": "2023-04-25T17:27:45.180091Z",
     "iopub.status.idle": "2023-04-25T17:27:46.269675Z",
     "shell.execute_reply": "2023-04-25T17:27:46.267923Z"
    },
    "papermill": {
     "duration": 1.098642,
     "end_time": "2023-04-25T17:27:46.273183",
     "exception": false,
     "start_time": "2023-04-25T17:27:45.174541",
     "status": "completed"
    },
    "tags": []
   },
   "outputs": [
    {
     "data": {
      "text/plain": [
       "True"
      ]
     },
     "execution_count": 1,
     "metadata": {},
     "output_type": "execute_result"
    }
   ],
   "source": [
    "from IPython.display import display, Math\n",
    "import sympy as sym\n",
    "from sympy.abc import a, b, c\n",
    "\n",
    "\n",
    "\n",
    "# sym.gcd(c*a,c*b) = c*(sym.gcd(c*a,c*b)\n",
    "sym.gcd(c*a,c*b) == c*(sym.gcd(a,b))\n",
    "\n",
    "\n"
   ]
  },
  {
   "cell_type": "code",
   "execution_count": 2,
   "id": "6ab256f8",
   "metadata": {
    "execution": {
     "iopub.execute_input": "2023-04-25T17:27:46.281444Z",
     "iopub.status.busy": "2023-04-25T17:27:46.280758Z",
     "iopub.status.idle": "2023-04-25T17:27:46.312222Z",
     "shell.execute_reply": "2023-04-25T17:27:46.310795Z"
    },
    "papermill": {
     "duration": 0.038911,
     "end_time": "2023-04-25T17:27:46.315289",
     "exception": false,
     "start_time": "2023-04-25T17:27:46.276378",
     "status": "completed"
    },
    "tags": []
   },
   "outputs": [
    {
     "data": {
      "text/plain": [
       "array([[99, 99, 99, 99, 99, 99, 99, 99, 99, 99, 99, 99, 99, 99, 99],\n",
       "       [99, 99, 99, 99, 99, 99, 99, 99, 99, 99, 99, 99, 99, 99, 99],\n",
       "       [99, 99, 99, 99, 99, 99, 99, 99, 99, 99, 99, 99, 99, 99, 99],\n",
       "       [99, 99, 99, 99, 99, 99, 99, 99, 99, 99, 99, 99, 99, 99, 99],\n",
       "       [99, 99, 99, 99, 99, 99, 99, 99, 99, 99, 99, 99, 99, 99, 99],\n",
       "       [99, 99, 99, 99, 99, 99, 99, 99, 99, 99, 99, 99, 99, 99, 99],\n",
       "       [99, 99, 99, 99, 99, 99, 99, 99, 99, 99, 99, 99, 99, 99, 99],\n",
       "       [99, 99, 99, 99, 99, 99, 99, 99, 99, 99, 99, 99, 99, 99, 99],\n",
       "       [99, 99, 99, 99, 99, 99, 99, 99, 99, 99, 99, 99, 99, 99, 99],\n",
       "       [99, 99, 99, 99, 99, 99, 99, 99, 99, 99, 99, 99, 99, 99, 99]])"
      ]
     },
     "metadata": {},
     "output_type": "display_data"
    },
    {
     "data": {
      "text/plain": [
       "array([[ 1,  1,  1,  1,  1,  1,  1,  1,  1,  1,  1,  1,  1,  1,  1],\n",
       "       [ 1,  2,  1,  2,  1,  2,  1,  2,  1,  2,  1,  2,  1,  2,  1],\n",
       "       [ 1,  1,  3,  1,  1,  3,  1,  1,  3,  1,  1,  3,  1,  1,  3],\n",
       "       [ 1,  2,  1,  4,  1,  2,  1,  4,  1,  2,  1,  4,  1,  2,  1],\n",
       "       [ 1,  1,  1,  1,  5,  1,  1,  1,  1,  5,  1,  1,  1,  1,  5],\n",
       "       [ 1,  2,  3,  2,  1,  6,  1,  2,  3,  2,  1,  6,  1,  2,  3],\n",
       "       [ 1,  1,  1,  1,  1,  1,  7,  1,  1,  1,  1,  1,  1,  7,  1],\n",
       "       [ 1,  2,  1,  4,  1,  2,  1,  8,  1,  2,  1,  4,  1,  2,  1],\n",
       "       [ 1,  1,  3,  1,  1,  3,  1,  1,  9,  1,  1,  3,  1,  1,  3],\n",
       "       [ 1,  2,  1,  2,  5,  2,  1,  2,  1, 10,  1,  2,  1,  2,  5]])"
      ]
     },
     "metadata": {},
     "output_type": "display_data"
    }
   ],
   "source": [
    "from IPython.display import display as d, Math\n",
    "import sympy as sym\n",
    "from sympy.abc import a, b, c\n",
    "\n",
    "import numpy as np\n",
    "\n",
    "num_arry = np.full((10,15),99)\n",
    "\n",
    "#ORIGINAL:\n",
    "d(num_arry)\n",
    "\n",
    "for i in range(10):\n",
    "    for j in range(15):\n",
    "        num_arry[i,j] = sym.gcd(i+1,j+1)\n",
    "\n",
    "#MODIFIED:\n",
    "d(num_arry)"
   ]
  },
  {
   "cell_type": "code",
   "execution_count": 3,
   "id": "61579ae9",
   "metadata": {
    "execution": {
     "iopub.execute_input": "2023-04-25T17:27:46.322713Z",
     "iopub.status.busy": "2023-04-25T17:27:46.322270Z",
     "iopub.status.idle": "2023-04-25T17:27:46.758486Z",
     "shell.execute_reply": "2023-04-25T17:27:46.757407Z"
    },
    "papermill": {
     "duration": 0.443315,
     "end_time": "2023-04-25T17:27:46.761233",
     "exception": false,
     "start_time": "2023-04-25T17:27:46.317918",
     "status": "completed"
    },
    "tags": []
   },
   "outputs": [
    {
     "name": "stdout",
     "output_type": "stream",
     "text": [
      "SOLVING FOR X:\n"
     ]
    },
    {
     "data": {
      "text/latex": [
       "$\\displaystyle \\quad 4 x - 6 =  0 \\Rightarrow \\left[ \\frac{3}{2}\\right]$"
      ],
      "text/plain": [
       "<IPython.core.display.Math object>"
      ]
     },
     "metadata": {},
     "output_type": "display_data"
    },
    {
     "data": {
      "text/latex": [
       "$\\displaystyle \\quad x^{2} - 9 =  0 \\Rightarrow \\left[ -3, \\  3\\right]$"
      ],
      "text/plain": [
       "<IPython.core.display.Math object>"
      ]
     },
     "metadata": {},
     "output_type": "display_data"
    },
    {
     "name": "stdout",
     "output_type": "stream",
     "text": [
      "SOLVING FOR Y:\n"
     ]
    },
    {
     "data": {
      "text/latex": [
       "$\\displaystyle \\quad \\sin{\\left(y \\right)} =  0 \\Rightarrow \\left[ 0, \\  \\pi\\right]$"
      ],
      "text/plain": [
       "<IPython.core.display.Math object>"
      ]
     },
     "metadata": {},
     "output_type": "display_data"
    }
   ],
   "source": [
    "import math\n",
    "from IPython.display import display as d, Math\n",
    "from sympy.abc import x, y\n",
    "import sympy as sym\n",
    "exprs_dict = {'expr_solve_in_X' : (4*x - 6, x**2 - 9), 'expr_solve_in_Y' : (sym.sin(y),)}\n",
    "\n",
    "for e1 in exprs_dict:\n",
    "    print(f'SOLVING FOR {e1[-1]}:')\n",
    "    for e2 in exprs_dict[e1]:        \n",
    "        d(Math(f'\\\\quad {sym.latex(e2)} =  0 \\\\Rightarrow {sym.latex(sym.solve(e2))}'))\n",
    "\n"
   ]
  }
 ],
 "metadata": {
  "kernelspec": {
   "display_name": "Python 3",
   "language": "python",
   "name": "python3"
  },
  "language_info": {
   "codemirror_mode": {
    "name": "ipython",
    "version": 3
   },
   "file_extension": ".py",
   "mimetype": "text/x-python",
   "name": "python",
   "nbconvert_exporter": "python",
   "pygments_lexer": "ipython3",
   "version": "3.7.12"
  },
  "papermill": {
   "default_parameters": {},
   "duration": 13.905553,
   "end_time": "2023-04-25T17:27:47.588758",
   "environment_variables": {},
   "exception": null,
   "input_path": "__notebook__.ipynb",
   "output_path": "__notebook__.ipynb",
   "parameters": {},
   "start_time": "2023-04-25T17:27:33.683205",
   "version": "2.4.0"
  }
 },
 "nbformat": 4,
 "nbformat_minor": 5
}
