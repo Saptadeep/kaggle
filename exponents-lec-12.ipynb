{
 "cells": [
  {
   "cell_type": "code",
   "execution_count": 1,
   "id": "d26381c0",
   "metadata": {
    "execution": {
     "iopub.execute_input": "2023-01-24T04:42:58.447883Z",
     "iopub.status.busy": "2023-01-24T04:42:58.447433Z",
     "iopub.status.idle": "2023-01-24T04:42:59.342740Z",
     "shell.execute_reply": "2023-01-24T04:42:59.341468Z"
    },
    "papermill": {
     "duration": 0.903122,
     "end_time": "2023-01-24T04:42:59.346254",
     "exception": false,
     "start_time": "2023-01-24T04:42:58.443132",
     "status": "completed"
    },
    "tags": []
   },
   "outputs": [
    {
     "data": {
      "text/latex": [
       "$\\displaystyle 7^{7+9}$"
      ],
      "text/plain": [
       "<IPython.core.display.Math object>"
      ]
     },
     "metadata": {},
     "output_type": "display_data"
    }
   ],
   "source": [
    "from IPython.display import display, Math\n",
    "import sympy as sym\n",
    "\n",
    "# Since Math accepts LaTeX (texts). So put 7+9 within {}\n",
    "# Also the operator for exponent is ^ not **:\n",
    "display(Math('7^{7+9}'))"
   ]
  },
  {
   "cell_type": "code",
   "execution_count": 2,
   "id": "d2467c57",
   "metadata": {
    "execution": {
     "iopub.execute_input": "2023-01-24T04:42:59.357028Z",
     "iopub.status.busy": "2023-01-24T04:42:59.355695Z",
     "iopub.status.idle": "2023-01-24T04:42:59.370876Z",
     "shell.execute_reply": "2023-01-24T04:42:59.369697Z"
    },
    "papermill": {
     "duration": 0.020756,
     "end_time": "2023-01-24T04:42:59.373357",
     "exception": false,
     "start_time": "2023-01-24T04:42:59.352601",
     "status": "completed"
    },
    "tags": []
   },
   "outputs": [
    {
     "data": {
      "text/latex": [
       "$\\displaystyle x^{\\frac{3}{4}} \\times4^y =  3933.086147822751$"
      ],
      "text/plain": [
       "<IPython.core.display.Math object>"
      ]
     },
     "metadata": {},
     "output_type": "display_data"
    },
    {
     "data": {
      "text/latex": [
       "$\\displaystyle \\frac{3^3}{x^y} = 0.007355576930579584$"
      ],
      "text/plain": [
       "<IPython.core.display.Math object>"
      ]
     },
     "metadata": {},
     "output_type": "display_data"
    },
    {
     "data": {
      "text/latex": [
       "$\\displaystyle 10^{(x-4)}  = 10$"
      ],
      "text/plain": [
       "<IPython.core.display.Math object>"
      ]
     },
     "metadata": {},
     "output_type": "display_data"
    }
   ],
   "source": [
    "from IPython.display import display, Math\n",
    "import sympy as sym\n",
    "\n",
    "def d_m(e):\n",
    "    display(Math(e))\n",
    "\n",
    "x = 5\n",
    "y = 5.1\n",
    "\n",
    "expr = 'x^{\\\\frac{3}{4}} \\\\times4^y = '\n",
    "ans = x**(3/4) * 4**y\n",
    "\n",
    "display(Math(f'{expr} {ans}'))\n",
    "\n",
    "expr = '\\\\frac{3^3}{x^y} ='\n",
    "ans = (3**3) /x**y \n",
    "\n",
    "d_m(f'{expr} {ans}')\n",
    "\n",
    "expr = '10^{(x-4)} '\n",
    "ans = 10**(x-4) \n",
    "\n",
    "d_m(f'{expr} = {ans}')\n",
    "\n"
   ]
  }
 ],
 "metadata": {
  "kernelspec": {
   "display_name": "Python 3",
   "language": "python",
   "name": "python3"
  },
  "language_info": {
   "codemirror_mode": {
    "name": "ipython",
    "version": 3
   },
   "file_extension": ".py",
   "mimetype": "text/x-python",
   "name": "python",
   "nbconvert_exporter": "python",
   "pygments_lexer": "ipython3",
   "version": "3.7.12"
  },
  "papermill": {
   "default_parameters": {},
   "duration": 9.851744,
   "end_time": "2023-01-24T04:43:00.096275",
   "environment_variables": {},
   "exception": null,
   "input_path": "__notebook__.ipynb",
   "output_path": "__notebook__.ipynb",
   "parameters": {},
   "start_time": "2023-01-24T04:42:50.244531",
   "version": "2.3.4"
  }
 },
 "nbformat": 4,
 "nbformat_minor": 5
}
