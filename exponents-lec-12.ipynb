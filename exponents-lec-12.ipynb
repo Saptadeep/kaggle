{
 "cells": [
  {
   "cell_type": "code",
   "execution_count": 1,
   "id": "2a146ccd",
   "metadata": {
    "execution": {
     "iopub.execute_input": "2023-01-24T05:50:27.811414Z",
     "iopub.status.busy": "2023-01-24T05:50:27.810689Z",
     "iopub.status.idle": "2023-01-24T05:50:28.753745Z",
     "shell.execute_reply": "2023-01-24T05:50:28.752425Z"
    },
    "papermill": {
     "duration": 0.950387,
     "end_time": "2023-01-24T05:50:28.756489",
     "exception": false,
     "start_time": "2023-01-24T05:50:27.806102",
     "status": "completed"
    },
    "tags": []
   },
   "outputs": [
    {
     "data": {
      "text/latex": [
       "$\\displaystyle 7^{7+9}$"
      ],
      "text/plain": [
       "<IPython.core.display.Math object>"
      ]
     },
     "metadata": {},
     "output_type": "display_data"
    }
   ],
   "source": [
    "from IPython.display import display, Math\n",
    "import sympy as sym\n",
    "\n",
    "# Since Math accepts LaTeX (texts). So put 7+9 within {}\n",
    "# Also the operator for exponent is ^ not **:\n",
    "display(Math('7^{7+9}'))"
   ]
  },
  {
   "cell_type": "code",
   "execution_count": 2,
   "id": "0f2b55e9",
   "metadata": {
    "execution": {
     "iopub.execute_input": "2023-01-24T05:50:28.762208Z",
     "iopub.status.busy": "2023-01-24T05:50:28.761654Z",
     "iopub.status.idle": "2023-01-24T05:50:28.777287Z",
     "shell.execute_reply": "2023-01-24T05:50:28.776048Z"
    },
    "papermill": {
     "duration": 0.021122,
     "end_time": "2023-01-24T05:50:28.779747",
     "exception": false,
     "start_time": "2023-01-24T05:50:28.758625",
     "status": "completed"
    },
    "tags": []
   },
   "outputs": [
    {
     "data": {
      "text/latex": [
       "$\\displaystyle \\Large {x^{\\frac{3}{4}} \\times4^y = 3933.086147822751}$"
      ],
      "text/plain": [
       "<IPython.core.display.Math object>"
      ]
     },
     "metadata": {},
     "output_type": "display_data"
    },
    {
     "data": {
      "text/latex": [
       "$\\displaystyle \\Large {\\frac{3^3}{x^y} = 0.007355576930579584}$"
      ],
      "text/plain": [
       "<IPython.core.display.Math object>"
      ]
     },
     "metadata": {},
     "output_type": "display_data"
    },
    {
     "data": {
      "text/latex": [
       "$\\displaystyle \\Large {10^{(x-4)}  = 10}$"
      ],
      "text/plain": [
       "<IPython.core.display.Math object>"
      ]
     },
     "metadata": {},
     "output_type": "display_data"
    }
   ],
   "source": [
    "from IPython.display import display, Math\n",
    "import sympy as sym\n",
    "\n",
    "def d_m(e):\n",
    "    e1 = '\\\\Large {'  + str(e) + '}'\n",
    "    display(Math(e1))\n",
    "\n",
    "x = 5\n",
    "y = 5.1\n",
    "\n",
    "expr = 'x^{\\\\frac{3}{4}} \\\\times4^y'\n",
    "ans = x**(3/4) * 4**y\n",
    "# display(Math(f'{expr} {ans}'))\n",
    "d_m(f'{expr} = {ans}')\n",
    "\n",
    "expr = '\\\\frac{3^3}{x^y}'\n",
    "ans = (3**3) /x**y \n",
    "d_m(f'{expr} = {ans}')\n",
    "\n",
    "expr = '10^{(x-4)} '\n",
    "ans = 10**(x-4) \n",
    "d_m(f'{expr} = {ans}')\n",
    "\n"
   ]
  }
 ],
 "metadata": {
  "kernelspec": {
   "display_name": "Python 3",
   "language": "python",
   "name": "python3"
  },
  "language_info": {
   "codemirror_mode": {
    "name": "ipython",
    "version": 3
   },
   "file_extension": ".py",
   "mimetype": "text/x-python",
   "name": "python",
   "nbconvert_exporter": "python",
   "pygments_lexer": "ipython3",
   "version": "3.7.12"
  },
  "papermill": {
   "default_parameters": {},
   "duration": 10.088065,
   "end_time": "2023-01-24T05:50:29.503694",
   "environment_variables": {},
   "exception": null,
   "input_path": "__notebook__.ipynb",
   "output_path": "__notebook__.ipynb",
   "parameters": {},
   "start_time": "2023-01-24T05:50:19.415629",
   "version": "2.3.4"
  }
 },
 "nbformat": 4,
 "nbformat_minor": 5
}
