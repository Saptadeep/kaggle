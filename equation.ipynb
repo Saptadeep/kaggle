{
 "cells": [
  {
   "cell_type": "markdown",
   "id": "ba992753",
   "metadata": {
    "papermill": {
     "duration": 0.004391,
     "end_time": "2023-01-24T03:36:31.985229",
     "exception": false,
     "start_time": "2023-01-24T03:36:31.980838",
     "status": "completed"
    },
    "tags": []
   },
   "source": [
    "<HTML>\n",
    "    <h4>Equations, enumerate iterables, first brush with LaTeX </h4>\n",
    "    <h5>>IPython Math module accepts LaTeX codes too</h5>\n",
    "</HTML>\n",
    "    \n"
   ]
  },
  {
   "cell_type": "code",
   "execution_count": 1,
   "id": "55a909f7",
   "metadata": {
    "execution": {
     "iopub.execute_input": "2023-01-24T03:36:31.993880Z",
     "iopub.status.busy": "2023-01-24T03:36:31.992454Z",
     "iopub.status.idle": "2023-01-24T03:36:33.285968Z",
     "shell.execute_reply": "2023-01-24T03:36:33.285141Z"
    },
    "papermill": {
     "duration": 1.301038,
     "end_time": "2023-01-24T03:36:33.289045",
     "exception": false,
     "start_time": "2023-01-24T03:36:31.988007",
     "status": "completed"
    },
    "tags": []
   },
   "outputs": [
    {
     "data": {
      "text/plain": [
       "'Solution No: 1 to the equation [- x y + \\\\frac{x}{4} + 5] is x = (x + 20)/(4*x)'"
      ]
     },
     "metadata": {},
     "output_type": "display_data"
    },
    {
     "data": {
      "text/plain": [
       "'x = [(x + 20)/(4*x)]'"
      ]
     },
     "metadata": {},
     "output_type": "display_data"
    }
   ],
   "source": [
    "import sympy as sym\n",
    "from IPython.display import display, Math\n",
    "x = sym.symbols('x')\n",
    "y = sym.symbols('y')\n",
    "# expr = 2*x + 4 - 9\n",
    "# expr = x**2 - 4\n",
    "expr = x/4 - x*y + 5\n",
    "\n",
    "\n",
    "sol = sym.solve(expr,y)\n",
    "for idx, e in enumerate(sol):\n",
    "    display(f'Solution No: {idx+1} to the equation [{sym.latex(expr)}] is x = {sol[idx]}')\n",
    "    display(f'x = {sol}')\n",
    "\n",
    "\n",
    "\n"
   ]
  },
  {
   "cell_type": "code",
   "execution_count": 2,
   "id": "15ed3955",
   "metadata": {
    "execution": {
     "iopub.execute_input": "2023-01-24T03:36:33.296585Z",
     "iopub.status.busy": "2023-01-24T03:36:33.295768Z",
     "iopub.status.idle": "2023-01-24T03:36:33.403289Z",
     "shell.execute_reply": "2023-01-24T03:36:33.401772Z"
    },
    "papermill": {
     "duration": 0.114217,
     "end_time": "2023-01-24T03:36:33.405991",
     "exception": false,
     "start_time": "2023-01-24T03:36:33.291774",
     "status": "completed"
    },
    "tags": []
   },
   "outputs": [
    {
     "name": "stdout",
     "output_type": "stream",
     "text": [
      "[1/4 - sqrt(13)/4, 1/4 + sqrt(13)/4]\n"
     ]
    },
    {
     "data": {
      "text/latex": [
       "$\\displaystyle [1/4 - sqrt(13)/4, 1/4 + sqrt(13)/4]$"
      ],
      "text/plain": [
       "<IPython.core.display.Math object>"
      ]
     },
     "metadata": {},
     "output_type": "display_data"
    }
   ],
   "source": [
    "import sympy as sym\n",
    "from IPython.display import display, Math\n",
    "q = sym.symbols('q') \n",
    "expr = -5*q + 3*q -2*q + (3/q) + 2\n",
    "\n",
    "sol = sym.solve(sym.simplify(expr))\n",
    "\n",
    "print(sol)\n",
    "display(Math(f'{sol}'))"
   ]
  },
  {
   "cell_type": "code",
   "execution_count": 3,
   "id": "3ae7b4a8",
   "metadata": {
    "execution": {
     "iopub.execute_input": "2023-01-24T03:36:33.412731Z",
     "iopub.status.busy": "2023-01-24T03:36:33.412365Z",
     "iopub.status.idle": "2023-01-24T03:36:33.419829Z",
     "shell.execute_reply": "2023-01-24T03:36:33.418711Z"
    },
    "papermill": {
     "duration": 0.01323,
     "end_time": "2023-01-24T03:36:33.421995",
     "exception": false,
     "start_time": "2023-01-24T03:36:33.408765",
     "status": "completed"
    },
    "tags": []
   },
   "outputs": [
    {
     "data": {
      "text/latex": [
       "$\\displaystyle \\frac42 = 2.0$"
      ],
      "text/plain": [
       "<IPython.core.display.Math object>"
      ]
     },
     "metadata": {},
     "output_type": "display_data"
    }
   ],
   "source": [
    "# First brush with LaTeX\n",
    "import sympy as sym\n",
    "from IPython.display import display, Math\n",
    "\n",
    "x = 4\n",
    "y = 2\n",
    "\n",
    "display(Math(f'\\\\frac{x}{y} = {x/2}'))\n"
   ]
  },
  {
   "cell_type": "code",
   "execution_count": 4,
   "id": "a5597c3b",
   "metadata": {
    "execution": {
     "iopub.execute_input": "2023-01-24T03:36:33.429256Z",
     "iopub.status.busy": "2023-01-24T03:36:33.428859Z",
     "iopub.status.idle": "2023-01-24T03:36:33.443479Z",
     "shell.execute_reply": "2023-01-24T03:36:33.442438Z"
    },
    "papermill": {
     "duration": 0.020941,
     "end_time": "2023-01-24T03:36:33.445845",
     "exception": false,
     "start_time": "2023-01-24T03:36:33.424904",
     "status": "completed"
    },
    "tags": []
   },
   "outputs": [
    {
     "data": {
      "text/latex": [
       "$\\displaystyle 3x(4+y) = 42$"
      ],
      "text/plain": [
       "<IPython.core.display.Math object>"
      ]
     },
     "metadata": {},
     "output_type": "display_data"
    },
    {
     "data": {
      "text/latex": [
       "$\\displaystyle 3 \\times 7 (4 + (-2) = 42$"
      ],
      "text/plain": [
       "<IPython.core.display.Math object>"
      ]
     },
     "metadata": {},
     "output_type": "display_data"
    },
    {
     "data": {
      "text/latex": [
       "$\\displaystyle -y - \\frac{x+3}{z} = 0$"
      ],
      "text/plain": [
       "<IPython.core.display.Math object>"
      ]
     },
     "metadata": {},
     "output_type": "display_data"
    },
    {
     "data": {
      "text/latex": [
       "$\\displaystyle -{-2} - \\frac{7+3}{5} = 0 $"
      ],
      "text/plain": [
       "<IPython.core.display.Math object>"
      ]
     },
     "metadata": {},
     "output_type": "display_data"
    }
   ],
   "source": [
    "import sympy as sym\n",
    "from IPython.display import display, Math\n",
    "\n",
    "x = 7\n",
    "y = -2\n",
    "z = 5\n",
    "\n",
    "expr1= f'3x(4+y) = 42'\n",
    "expr11= f'3 \\\\times {x} (4 + ({y}) = 42'\n",
    "\n",
    "expr211 = 't + 3'\n",
    "expr2 = '-y - \\\\frac{x+3}{z} = 0'\n",
    "expr21 = '-{-2} - \\\\frac{7+3}{5} = 0 '\n",
    "\n",
    "display(Math(f'{expr1}'))\n",
    "display(Math(f'{expr11}'))\n",
    "\n",
    "display(Math(f'{expr2}'))\n",
    "display(Math(f'{expr21}'))"
   ]
  },
  {
   "cell_type": "code",
   "execution_count": null,
   "id": "e98537d2",
   "metadata": {
    "papermill": {
     "duration": 0.002918,
     "end_time": "2023-01-24T03:36:33.451975",
     "exception": false,
     "start_time": "2023-01-24T03:36:33.449057",
     "status": "completed"
    },
    "tags": []
   },
   "outputs": [],
   "source": []
  }
 ],
 "metadata": {
  "kernelspec": {
   "display_name": "Python 3",
   "language": "python",
   "name": "python3"
  },
  "language_info": {
   "codemirror_mode": {
    "name": "ipython",
    "version": 3
   },
   "file_extension": ".py",
   "mimetype": "text/x-python",
   "name": "python",
   "nbconvert_exporter": "python",
   "pygments_lexer": "ipython3",
   "version": "3.7.12"
  },
  "papermill": {
   "default_parameters": {},
   "duration": 10.717175,
   "end_time": "2023-01-24T03:36:34.177016",
   "environment_variables": {},
   "exception": null,
   "input_path": "__notebook__.ipynb",
   "output_path": "__notebook__.ipynb",
   "parameters": {},
   "start_time": "2023-01-24T03:36:23.459841",
   "version": "2.3.4"
  }
 },
 "nbformat": 4,
 "nbformat_minor": 5
}
