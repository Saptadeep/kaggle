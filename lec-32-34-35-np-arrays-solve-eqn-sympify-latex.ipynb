{
 "cells": [
  {
   "cell_type": "code",
   "execution_count": 1,
   "id": "392a2bbf",
   "metadata": {
    "execution": {
     "iopub.execute_input": "2023-04-13T06:38:24.596888Z",
     "iopub.status.busy": "2023-04-13T06:38:24.595121Z",
     "iopub.status.idle": "2023-04-13T06:38:24.614042Z",
     "shell.execute_reply": "2023-04-13T06:38:24.612584Z"
    },
    "papermill": {
     "duration": 0.026937,
     "end_time": "2023-04-13T06:38:24.616954",
     "exception": false,
     "start_time": "2023-04-13T06:38:24.590017",
     "status": "completed"
    },
    "tags": []
   },
   "outputs": [
    {
     "data": {
      "text/plain": [
       "[5, 6, '1', '2']"
      ]
     },
     "execution_count": 1,
     "metadata": {},
     "output_type": "execute_result"
    }
   ],
   "source": [
    "nLst= [5,6]\n",
    "sLst = ['1','2']\n",
    "\n",
    "lst = nLst + sLst\n",
    "\n",
    "lst"
   ]
  },
  {
   "cell_type": "code",
   "execution_count": 2,
   "id": "ea3e8a39",
   "metadata": {
    "execution": {
     "iopub.execute_input": "2023-04-13T06:38:24.622718Z",
     "iopub.status.busy": "2023-04-13T06:38:24.622349Z",
     "iopub.status.idle": "2023-04-13T06:38:26.014353Z",
     "shell.execute_reply": "2023-04-13T06:38:26.013226Z"
    },
    "papermill": {
     "duration": 1.397696,
     "end_time": "2023-04-13T06:38:26.016835",
     "exception": false,
     "start_time": "2023-04-13T06:38:24.619139",
     "status": "completed"
    },
    "tags": []
   },
   "outputs": [
    {
     "data": {
      "text/latex": [
       "$\\displaystyle \\left[ \\frac{1}{2} - \\frac{\\sqrt{7}}{2}, \\  \\frac{1}{2} + \\frac{\\sqrt{7}}{2}\\right]$"
      ],
      "text/plain": [
       "<IPython.core.display.Math object>"
      ]
     },
     "metadata": {},
     "output_type": "display_data"
    },
    {
     "data": {
      "text/latex": [
       "$\\displaystyle - 2 q + 2 + \\frac{3}{q}$"
      ],
      "text/plain": [
       "<IPython.core.display.Math object>"
      ]
     },
     "metadata": {},
     "output_type": "display_data"
    }
   ],
   "source": [
    "from IPython.display import display, Math\n",
    "import sympy as sym\n",
    "q = sym.symbols('q')\n",
    "expr = '3*q + 4/q + 3 - 5*q - 1/q-1' \n",
    "display(Math(sym.latex(sym.solve(expr, q))))\n",
    "display(Math(sym.latex(sym.sympify(expr))))"
   ]
  },
  {
   "cell_type": "code",
   "execution_count": 3,
   "id": "f9658e71",
   "metadata": {
    "execution": {
     "iopub.execute_input": "2023-04-13T06:38:26.024245Z",
     "iopub.status.busy": "2023-04-13T06:38:26.023627Z",
     "iopub.status.idle": "2023-04-13T06:38:26.047090Z",
     "shell.execute_reply": "2023-04-13T06:38:26.045360Z"
    },
    "papermill": {
     "duration": 0.031202,
     "end_time": "2023-04-13T06:38:26.050446",
     "exception": false,
     "start_time": "2023-04-13T06:38:26.019244",
     "status": "completed"
    },
    "tags": []
   },
   "outputs": [
    {
     "data": {
      "text/latex": [
       "$\\displaystyle \\frac{\\sqrt{3} + 9 \\sqrt{15}}{\\sqrt{2} + 9 \\sqrt{10}}$"
      ],
      "text/plain": [
       "<IPython.core.display.Math object>"
      ]
     },
     "metadata": {},
     "output_type": "display_data"
    }
   ],
   "source": [
    "from IPython.display import display, Math\n",
    "import sympy as sym\n",
    "\n",
    "q = sym.symbols('q')\n",
    "expr = (sym.sqrt(3) + sym.sqrt(15)*q) / (sym.sqrt(2) + sym.sqrt(10)*q)\n",
    "expr.subs({q:9})\n",
    "display(Math(sym.latex(expr.subs({q:9}))))\n"
   ]
  }
 ],
 "metadata": {
  "kernelspec": {
   "display_name": "Python 3",
   "language": "python",
   "name": "python3"
  },
  "language_info": {
   "codemirror_mode": {
    "name": "ipython",
    "version": 3
   },
   "file_extension": ".py",
   "mimetype": "text/x-python",
   "name": "python",
   "nbconvert_exporter": "python",
   "pygments_lexer": "ipython3",
   "version": "3.7.12"
  },
  "papermill": {
   "default_parameters": {},
   "duration": 13.561822,
   "end_time": "2023-04-13T06:38:27.078975",
   "environment_variables": {},
   "exception": null,
   "input_path": "__notebook__.ipynb",
   "output_path": "__notebook__.ipynb",
   "parameters": {},
   "start_time": "2023-04-13T06:38:13.517153",
   "version": "2.4.0"
  }
 },
 "nbformat": 4,
 "nbformat_minor": 5
}
