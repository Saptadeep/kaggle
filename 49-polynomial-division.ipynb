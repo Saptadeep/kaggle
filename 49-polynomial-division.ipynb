{
 "cells": [
  {
   "cell_type": "code",
   "execution_count": 1,
   "id": "0c5e238a",
   "metadata": {
    "_cell_guid": "b1076dfc-b9ad-4769-8c92-a6c4dae69d19",
    "_uuid": "8f2839f25d086af736a60e9eeb907d3b93b6e0e5",
    "execution": {
     "iopub.execute_input": "2023-04-29T03:08:35.023399Z",
     "iopub.status.busy": "2023-04-29T03:08:35.022443Z",
     "iopub.status.idle": "2023-04-29T03:08:36.226037Z",
     "shell.execute_reply": "2023-04-29T03:08:36.224402Z"
    },
    "papermill": {
     "duration": 1.211864,
     "end_time": "2023-04-29T03:08:36.229415",
     "exception": false,
     "start_time": "2023-04-29T03:08:35.017551",
     "status": "completed"
    },
    "tags": []
   },
   "outputs": [
    {
     "data": {
      "text/plain": [
       "9"
      ]
     },
     "metadata": {},
     "output_type": "display_data"
    }
   ],
   "source": [
    "from IPython.display import display as d, Math\n",
    "import sympy as sym\n",
    "from sympy.abc import x,y\n",
    "\n",
    "d(9)\n"
   ]
  }
 ],
 "metadata": {
  "kernelspec": {
   "display_name": "Python 3",
   "language": "python",
   "name": "python3"
  },
  "language_info": {
   "codemirror_mode": {
    "name": "ipython",
    "version": 3
   },
   "file_extension": ".py",
   "mimetype": "text/x-python",
   "name": "python",
   "nbconvert_exporter": "python",
   "pygments_lexer": "ipython3",
   "version": "3.7.12"
  },
  "papermill": {
   "default_parameters": {},
   "duration": 14.012285,
   "end_time": "2023-04-29T03:08:37.055374",
   "environment_variables": {},
   "exception": null,
   "input_path": "__notebook__.ipynb",
   "output_path": "__notebook__.ipynb",
   "parameters": {},
   "start_time": "2023-04-29T03:08:23.043089",
   "version": "2.4.0"
  }
 },
 "nbformat": 4,
 "nbformat_minor": 5
}
