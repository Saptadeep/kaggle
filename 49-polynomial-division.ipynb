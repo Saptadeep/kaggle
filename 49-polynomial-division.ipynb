{
 "cells": [
  {
   "cell_type": "code",
   "execution_count": 1,
   "id": "91b2c602",
   "metadata": {
    "_cell_guid": "b1076dfc-b9ad-4769-8c92-a6c4dae69d19",
    "_uuid": "8f2839f25d086af736a60e9eeb907d3b93b6e0e5",
    "execution": {
     "iopub.execute_input": "2023-04-30T03:29:39.075003Z",
     "iopub.status.busy": "2023-04-30T03:29:39.074438Z",
     "iopub.status.idle": "2023-04-30T03:29:41.897851Z",
     "shell.execute_reply": "2023-04-30T03:29:41.896449Z"
    },
    "papermill": {
     "duration": 2.830857,
     "end_time": "2023-04-30T03:29:41.900570",
     "exception": false,
     "start_time": "2023-04-30T03:29:39.069713",
     "status": "completed"
    },
    "tags": []
   },
   "outputs": [
    {
     "data": {
      "image/png": "[encoded data removed]",
      "text/latex": [
       "$\\displaystyle \\frac{x^{6} + 2 x^{4} + 6 x - 5}{x^{3} + 3}$"
      ],
      "text/plain": [
       " 6      4          \n",
       "x  + 2⋅x  + 6⋅x - 5\n",
       "───────────────────\n",
       "        3          \n",
       "       x  + 3      "
      ]
     },
     "metadata": {},
     "output_type": "display_data"
    },
    {
     "data": {
      "image/png": "[encoded data removed]",
      "text/latex": [
       "$\\displaystyle \\frac{x^{6} + 2 x^{4} + 6 x - 6}{x^{3} + 3}$"
      ],
      "text/plain": [
       " 6      4          \n",
       "x  + 2⋅x  + 6⋅x - 6\n",
       "───────────────────\n",
       "        3          \n",
       "       x  + 3      "
      ]
     },
     "metadata": {},
     "output_type": "display_data"
    },
    {
     "data": {
      "image/png": "[encoded data removed]",
      "text/latex": [
       "$\\displaystyle \\frac{x^{6} + 2 x^{4} + 6 x - 7}{x^{3} + 3}$"
      ],
      "text/plain": [
       " 6      4          \n",
       "x  + 2⋅x  + 6⋅x - 7\n",
       "───────────────────\n",
       "        3          \n",
       "       x  + 3      "
      ]
     },
     "metadata": {},
     "output_type": "display_data"
    },
    {
     "data": {
      "image/png": "[encoded data removed]",
      "text/latex": [
       "$\\displaystyle \\frac{x^{6} + 2 x^{4} + 6 x - 8}{x^{3} + 3}$"
      ],
      "text/plain": [
       " 6      4          \n",
       "x  + 2⋅x  + 6⋅x - 8\n",
       "───────────────────\n",
       "        3          \n",
       "       x  + 3      "
      ]
     },
     "metadata": {},
     "output_type": "display_data"
    },
    {
     "data": {
      "image/png": "[encoded data removed]",
      "text/latex": [
       "$\\displaystyle x^{3} + 2 x - 3$"
      ],
      "text/plain": [
       " 3          \n",
       "x  + 2⋅x - 3"
      ]
     },
     "metadata": {},
     "output_type": "display_data"
    },
    {
     "data": {
      "image/png": "[encoded data removed]",
      "text/latex": [
       "$\\displaystyle \\frac{x^{6} + 2 x^{4} + 6 x - 10}{x^{3} + 3}$"
      ],
      "text/plain": [
       " 6      4           \n",
       "x  + 2⋅x  + 6⋅x - 10\n",
       "────────────────────\n",
       "        3           \n",
       "       x  + 3       "
      ]
     },
     "metadata": {},
     "output_type": "display_data"
    },
    {
     "data": {
      "image/png": "[encoded data removed]",
      "text/latex": [
       "$\\displaystyle \\frac{x^{6} + 2 x^{4} + 6 x - 11}{x^{3} + 3}$"
      ],
      "text/plain": [
       " 6      4           \n",
       "x  + 2⋅x  + 6⋅x - 11\n",
       "────────────────────\n",
       "        3           \n",
       "       x  + 3       "
      ]
     },
     "metadata": {},
     "output_type": "display_data"
    },
    {
     "data": {
      "image/png": "[encoded data removed]",
      "text/latex": [
       "$\\displaystyle \\frac{x^{6} + 2 x^{4} + 6 x - 12}{x^{3} + 3}$"
      ],
      "text/plain": [
       " 6      4           \n",
       "x  + 2⋅x  + 6⋅x - 12\n",
       "────────────────────\n",
       "        3           \n",
       "       x  + 3       "
      ]
     },
     "metadata": {},
     "output_type": "display_data"
    },
    {
     "data": {
      "image/png": "[encoded data removed]",
      "text/latex": [
       "$\\displaystyle \\frac{x^{6} + 2 x^{4} + 6 x - 13}{x^{3} + 3}$"
      ],
      "text/plain": [
       " 6      4           \n",
       "x  + 2⋅x  + 6⋅x - 13\n",
       "────────────────────\n",
       "        3           \n",
       "       x  + 3       "
      ]
     },
     "metadata": {},
     "output_type": "display_data"
    },
    {
     "data": {
      "image/png": "[encoded data removed]",
      "text/latex": [
       "$\\displaystyle \\frac{x^{6} + 2 x^{4} + 6 x - 14}{x^{3} + 3}$"
      ],
      "text/plain": [
       " 6      4           \n",
       "x  + 2⋅x  + 6⋅x - 14\n",
       "────────────────────\n",
       "        3           \n",
       "       x  + 3       "
      ]
     },
     "metadata": {},
     "output_type": "display_data"
    },
    {
     "data": {
      "image/png": "[encoded data removed]",
      "text/latex": [
       "$\\displaystyle \\frac{x^{6} + 2 x^{4} + 6 x - 15}{x^{3} + 3}$"
      ],
      "text/plain": [
       " 6      4           \n",
       "x  + 2⋅x  + 6⋅x - 15\n",
       "────────────────────\n",
       "        3           \n",
       "       x  + 3       "
      ]
     },
     "metadata": {},
     "output_type": "display_data"
    }
   ],
   "source": [
    "from IPython.display import display as d, Math\n",
    "import sympy as sym\n",
    "from sympy.abc import x, y, a, b\n",
    "\n",
    "sym.init_printing()\n",
    "pol1 = (x**6 + 2*x**4 + 6*x - y)\n",
    "pol2 = (x**3 + 3)\n",
    "pol3 = 4*x**5 - x\n",
    "pol4 = 2*x**3 - x\n",
    "\n",
    "\n",
    "for e in range(5,16):\n",
    "    d(sym.simplify(pol1.subs({y:e})/pol2.subs({y:e}) )  )\n",
    "\n",
    "\n",
    "    # #     d(sym.solve(pol1)/sym.solve(pol2))\n",
    "# #     d(sym.simplify(pol1.subs({y:e})/pol2.subs({y:e}))    )\n",
    "#     d(sym.fraction(pol1.subs({y:e})/pol2.subs({y:e})))\n",
    "\n",
    "    "
   ]
  }
 ],
 "metadata": {
  "kernelspec": {
   "display_name": "Python 3",
   "language": "python",
   "name": "python3"
  },
  "language_info": {
   "codemirror_mode": {
    "name": "ipython",
    "version": 3
   },
   "file_extension": ".py",
   "mimetype": "text/x-python",
   "name": "python",
   "nbconvert_exporter": "python",
   "pygments_lexer": "ipython3",
   "version": "3.7.12"
  },
  "papermill": {
   "default_parameters": {},
   "duration": 13.72576,
   "end_time": "2023-04-30T03:29:42.727956",
   "environment_variables": {},
   "exception": null,
   "input_path": "__notebook__.ipynb",
   "output_path": "__notebook__.ipynb",
   "parameters": {},
   "start_time": "2023-04-30T03:29:29.002196",
   "version": "2.4.0"
  }
 },
 "nbformat": 4,
 "nbformat_minor": 5
}
