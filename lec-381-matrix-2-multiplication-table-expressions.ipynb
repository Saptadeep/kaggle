{
 "cells": [
  {
   "cell_type": "code",
   "execution_count": 1,
   "id": "a113f2e5",
   "metadata": {
    "_cell_guid": "b1076dfc-b9ad-4769-8c92-a6c4dae69d19",
    "_uuid": "8f2839f25d086af736a60e9eeb907d3b93b6e0e5",
    "execution": {
     "iopub.execute_input": "2023-04-21T03:36:37.473150Z",
     "iopub.status.busy": "2023-04-21T03:36:37.472735Z",
     "iopub.status.idle": "2023-04-21T03:36:38.810802Z",
     "shell.execute_reply": "2023-04-21T03:36:38.809900Z"
    },
    "papermill": {
     "duration": 1.345312,
     "end_time": "2023-04-21T03:36:38.813615",
     "exception": false,
     "start_time": "2023-04-21T03:36:37.468303",
     "status": "completed"
    },
    "tags": []
   },
   "outputs": [
    {
     "data": {
      "text/latex": [
       "$\\displaystyle \\left(y + z\\right)^{2} \\left(w \\left(4.0 - w\\right) + \\frac{w + 1.0}{w^{2}}\\right)^{2}$"
      ],
      "text/plain": [
       "(y + z)**2*(w*(4.0 - w) + (w + 1.0)/w**2)**2"
      ]
     },
     "execution_count": 1,
     "metadata": {},
     "output_type": "execute_result"
    }
   ],
   "source": [
    "from IPython.display import display, Math\n",
    "from sympy.abc import x, y, z, w, p\n",
    "import sympy as sym\n",
    "import numpy as np\n",
    "\n",
    "expr1 = x*(y+z)\n",
    "expr2 = 3/x+ x**2\n",
    "p = w*(4-w)+(1/w**2)*(1+w) \n",
    "\n",
    "(expr1.subs({x:p})*expr1.subs({x:p})).evalf()"
   ]
  },
  {
   "cell_type": "code",
   "execution_count": 2,
   "id": "fef85ffd",
   "metadata": {
    "execution": {
     "iopub.execute_input": "2023-04-21T03:36:38.820009Z",
     "iopub.status.busy": "2023-04-21T03:36:38.819413Z",
     "iopub.status.idle": "2023-04-21T03:36:38.836636Z",
     "shell.execute_reply": "2023-04-21T03:36:38.835341Z"
    },
    "papermill": {
     "duration": 0.023748,
     "end_time": "2023-04-21T03:36:38.839745",
     "exception": false,
     "start_time": "2023-04-21T03:36:38.815997",
     "status": "completed"
    },
    "tags": []
   },
   "outputs": [
    {
     "data": {
      "text/latex": [
       "$\\displaystyle \\left(y + z\\right)^{2} \\left(w \\left(4 - w\\right) + \\frac{w + 1}{w^{2}}\\right)^{2}$"
      ],
      "text/plain": [
       "(y + z)**2*(w*(4 - w) + (w + 1)/w**2)**2"
      ]
     },
     "execution_count": 2,
     "metadata": {},
     "output_type": "execute_result"
    }
   ],
   "source": [
    "from IPython.display import display, Math\n",
    "from sympy.abc import x, y, z, p\n",
    "import sympy as sym\n",
    "import numpy as np\n",
    "\n",
    "x = w*(4-w)+(1/w**2)*(1+w) \n",
    "expr1 = x*(y+z)\n",
    "expr2 = 3/x+ x**2\n",
    "\n",
    "(expr1*expr1)"
   ]
  }
 ],
 "metadata": {
  "kernelspec": {
   "display_name": "Python 3",
   "language": "python",
   "name": "python3"
  },
  "language_info": {
   "codemirror_mode": {
    "name": "ipython",
    "version": 3
   },
   "file_extension": ".py",
   "mimetype": "text/x-python",
   "name": "python",
   "nbconvert_exporter": "python",
   "pygments_lexer": "ipython3",
   "version": "3.7.12"
  },
  "papermill": {
   "default_parameters": {},
   "duration": 12.617052,
   "end_time": "2023-04-21T03:36:39.563768",
   "environment_variables": {},
   "exception": null,
   "input_path": "__notebook__.ipynb",
   "output_path": "__notebook__.ipynb",
   "parameters": {},
   "start_time": "2023-04-21T03:36:26.946716",
   "version": "2.4.0"
  }
 },
 "nbformat": 4,
 "nbformat_minor": 5
}
