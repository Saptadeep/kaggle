{
 "cells": [
  {
   "cell_type": "code",
   "execution_count": 1,
   "id": "af732808",
   "metadata": {
    "_cell_guid": "b1076dfc-b9ad-4769-8c92-a6c4dae69d19",
    "_uuid": "8f2839f25d086af736a60e9eeb907d3b93b6e0e5",
    "execution": {
     "iopub.execute_input": "2023-04-21T04:29:40.094412Z",
     "iopub.status.busy": "2023-04-21T04:29:40.093646Z",
     "iopub.status.idle": "2023-04-21T04:29:41.519861Z",
     "shell.execute_reply": "2023-04-21T04:29:41.518693Z"
    },
    "papermill": {
     "duration": 1.433647,
     "end_time": "2023-04-21T04:29:41.522559",
     "exception": false,
     "start_time": "2023-04-21T04:29:40.088912",
     "status": "completed"
    },
    "tags": []
   },
   "outputs": [
    {
     "data": {
      "text/latex": [
       "$\\displaystyle \\Large Tiny \\quad Font:$"
      ],
      "text/plain": [
       "<IPython.core.display.Math object>"
      ]
     },
     "metadata": {},
     "output_type": "display_data"
    },
    {
     "data": {
      "text/latex": [
       "$\\displaystyle \\tiny x \\left(4 - 6 x\\right) + 3 x \\quad \\Longleftrightarrow \\quad - 6 x^{2} + 7 x$"
      ],
      "text/plain": [
       "<IPython.core.display.Math object>"
      ]
     },
     "metadata": {},
     "output_type": "display_data"
    },
    {
     "data": {
      "text/latex": [
       "$\\displaystyle \\tiny - x \\left(\\frac{2}{x} + \\frac{4}{x^{2}}\\right) + \\frac{x + 4}{4 x} \\quad \\Longleftrightarrow \\quad - \\frac{7}{4} - \\frac{3}{x}$"
      ],
      "text/plain": [
       "<IPython.core.display.Math object>"
      ]
     },
     "metadata": {},
     "output_type": "display_data"
    },
    {
     "data": {
      "text/latex": [
       "$\\displaystyle \\tiny \\frac{\\left(x - 3\\right) \\left(x + 3\\right)}{9} \\quad \\Longleftrightarrow \\quad \\frac{x^{2}}{9} - 1$"
      ],
      "text/plain": [
       "<IPython.core.display.Math object>"
      ]
     },
     "metadata": {},
     "output_type": "display_data"
    },
    {
     "data": {
      "text/latex": [
       "$\\displaystyle \\Large Large \\quad Font. \\quad Large \\quad with \\quad uppercase \\quad L:$"
      ],
      "text/plain": [
       "<IPython.core.display.Math object>"
      ]
     },
     "metadata": {},
     "output_type": "display_data"
    },
    {
     "data": {
      "text/latex": [
       "$\\displaystyle \\Large x \\left(4 - 6 x\\right) + 3 x \\quad \\Longleftrightarrow \\quad - 6 x^{2} + 7 x$"
      ],
      "text/plain": [
       "<IPython.core.display.Math object>"
      ]
     },
     "metadata": {},
     "output_type": "display_data"
    },
    {
     "data": {
      "text/latex": [
       "$\\displaystyle \\Large - x \\left(\\frac{2}{x} + \\frac{4}{x^{2}}\\right) + \\frac{x + 4}{4 x} \\quad \\Longleftrightarrow \\quad - \\frac{7}{4} - \\frac{3}{x}$"
      ],
      "text/plain": [
       "<IPython.core.display.Math object>"
      ]
     },
     "metadata": {},
     "output_type": "display_data"
    },
    {
     "data": {
      "text/latex": [
       "$\\displaystyle \\Large \\frac{\\left(x - 3\\right) \\left(x + 3\\right)}{9} \\quad \\Longleftrightarrow \\quad \\frac{x^{2}}{9} - 1$"
      ],
      "text/plain": [
       "<IPython.core.display.Math object>"
      ]
     },
     "metadata": {},
     "output_type": "display_data"
    }
   ],
   "source": [
    "from IPython.display import display, Math\n",
    "from sympy.abc import x,y,z\n",
    "import sympy as sym\n",
    "import numpy as np\n",
    "\n",
    "# Note the importance of parentheses:\n",
    "e1 = 2*x + x*(4-6*x)+x\n",
    "e2 = -x*((2/x) + (4/x**2)) + (4+x)/(4*x)\n",
    "e3 = (x+3)*(x-3)*x*(1/(9*x))\n",
    "\n",
    "lst = [e1,e2,e3]\n",
    "\n",
    "display(Math(f'\\\\Large Tiny \\\\quad Font:'))\n",
    "for e in lst:\n",
    "    display(Math(f'\\\\tiny {sym.latex(e)} \\\\quad \\\\Longleftrightarrow \\\\quad {sym.latex(e.expand())}'))\n",
    "\n",
    "    \n",
    "display(Math(f'\\\\Large Large \\\\quad Font. \\\\quad Large \\\\quad with \\\\quad uppercase \\\\quad L:'))\n",
    "for e in lst:\n",
    "    display(Math(f'\\\\Large {sym.latex(e)} \\\\quad \\\\Longleftrightarrow \\\\quad {sym.latex(e.expand())}'))    \n",
    "    \n",
    "    \"\"\"\n",
    "        Ref:\n",
    "        https://www.overleaf.com/learn/latex/Font_sizes%2C_families%2C_and_styles\n",
    "        Command\tOutput\n",
    "        \\tiny\tF-tiny.png\n",
    "        \\scriptsize\tF-scriptsize.png\n",
    "        \\footnotesize\tF-footnotesize.png\n",
    "        \\small\tF-small.png\n",
    "        \\normalsize\tF-normalsize.png\n",
    "        \\large\tF-large.png\n",
    "        \\Large\tF-large2.png \n",
    "    \"\"\""
   ]
  }
 ],
 "metadata": {
  "kernelspec": {
   "display_name": "Python 3",
   "language": "python",
   "name": "python3"
  },
  "language_info": {
   "codemirror_mode": {
    "name": "ipython",
    "version": 3
   },
   "file_extension": ".py",
   "mimetype": "text/x-python",
   "name": "python",
   "nbconvert_exporter": "python",
   "pygments_lexer": "ipython3",
   "version": "3.7.12"
  },
  "papermill": {
   "default_parameters": {},
   "duration": 14.66479,
   "end_time": "2023-04-21T04:29:42.351288",
   "environment_variables": {},
   "exception": null,
   "input_path": "__notebook__.ipynb",
   "output_path": "__notebook__.ipynb",
   "parameters": {},
   "start_time": "2023-04-21T04:29:27.686498",
   "version": "2.4.0"
  }
 },
 "nbformat": 4,
 "nbformat_minor": 5
}
