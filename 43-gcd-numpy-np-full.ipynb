{
 "cells": [
  {
   "cell_type": "code",
   "execution_count": 1,
   "id": "df422ec1",
   "metadata": {
    "_cell_guid": "b1076dfc-b9ad-4769-8c92-a6c4dae69d19",
    "_uuid": "8f2839f25d086af736a60e9eeb907d3b93b6e0e5",
    "execution": {
     "iopub.execute_input": "2023-04-24T04:38:59.962076Z",
     "iopub.status.busy": "2023-04-24T04:38:59.961367Z",
     "iopub.status.idle": "2023-04-24T04:39:00.978881Z",
     "shell.execute_reply": "2023-04-24T04:39:00.977453Z"
    },
    "papermill": {
     "duration": 1.025315,
     "end_time": "2023-04-24T04:39:00.982118",
     "exception": false,
     "start_time": "2023-04-24T04:38:59.956803",
     "status": "completed"
    },
    "tags": []
   },
   "outputs": [
    {
     "data": {
      "text/plain": [
       "True"
      ]
     },
     "execution_count": 1,
     "metadata": {},
     "output_type": "execute_result"
    }
   ],
   "source": [
    "from IPython.display import display, Math\n",
    "import sympy as sym\n",
    "from sympy.abc import a, b, c\n",
    "\n",
    "\n",
    "\n",
    "# sym.gcd(c*a,c*b) = c*(sym.gcd(c*a,c*b)\n",
    "sym.gcd(c*a,c*b) == c*(sym.gcd(a,b))\n",
    "\n",
    "\n"
   ]
  },
  {
   "cell_type": "code",
   "execution_count": 2,
   "id": "c2332728",
   "metadata": {
    "execution": {
     "iopub.execute_input": "2023-04-24T04:39:00.988482Z",
     "iopub.status.busy": "2023-04-24T04:39:00.987832Z",
     "iopub.status.idle": "2023-04-24T04:39:01.020903Z",
     "shell.execute_reply": "2023-04-24T04:39:01.019664Z"
    },
    "papermill": {
     "duration": 0.03894,
     "end_time": "2023-04-24T04:39:01.023487",
     "exception": false,
     "start_time": "2023-04-24T04:39:00.984547",
     "status": "completed"
    },
    "tags": []
   },
   "outputs": [
    {
     "data": {
      "text/plain": [
       "array([[99, 99, 99, 99, 99, 99, 99, 99, 99, 99, 99, 99, 99, 99, 99],\n",
       "       [99, 99, 99, 99, 99, 99, 99, 99, 99, 99, 99, 99, 99, 99, 99],\n",
       "       [99, 99, 99, 99, 99, 99, 99, 99, 99, 99, 99, 99, 99, 99, 99],\n",
       "       [99, 99, 99, 99, 99, 99, 99, 99, 99, 99, 99, 99, 99, 99, 99],\n",
       "       [99, 99, 99, 99, 99, 99, 99, 99, 99, 99, 99, 99, 99, 99, 99],\n",
       "       [99, 99, 99, 99, 99, 99, 99, 99, 99, 99, 99, 99, 99, 99, 99],\n",
       "       [99, 99, 99, 99, 99, 99, 99, 99, 99, 99, 99, 99, 99, 99, 99],\n",
       "       [99, 99, 99, 99, 99, 99, 99, 99, 99, 99, 99, 99, 99, 99, 99],\n",
       "       [99, 99, 99, 99, 99, 99, 99, 99, 99, 99, 99, 99, 99, 99, 99],\n",
       "       [99, 99, 99, 99, 99, 99, 99, 99, 99, 99, 99, 99, 99, 99, 99]])"
      ]
     },
     "metadata": {},
     "output_type": "display_data"
    },
    {
     "data": {
      "text/plain": [
       "array([[ 1,  1,  1,  1,  1,  1,  1,  1,  1,  1,  1,  1,  1,  1,  1],\n",
       "       [ 1,  2,  1,  2,  1,  2,  1,  2,  1,  2,  1,  2,  1,  2,  1],\n",
       "       [ 1,  1,  3,  1,  1,  3,  1,  1,  3,  1,  1,  3,  1,  1,  3],\n",
       "       [ 1,  2,  1,  4,  1,  2,  1,  4,  1,  2,  1,  4,  1,  2,  1],\n",
       "       [ 1,  1,  1,  1,  5,  1,  1,  1,  1,  5,  1,  1,  1,  1,  5],\n",
       "       [ 1,  2,  3,  2,  1,  6,  1,  2,  3,  2,  1,  6,  1,  2,  3],\n",
       "       [ 1,  1,  1,  1,  1,  1,  7,  1,  1,  1,  1,  1,  1,  7,  1],\n",
       "       [ 1,  2,  1,  4,  1,  2,  1,  8,  1,  2,  1,  4,  1,  2,  1],\n",
       "       [ 1,  1,  3,  1,  1,  3,  1,  1,  9,  1,  1,  3,  1,  1,  3],\n",
       "       [ 1,  2,  1,  2,  5,  2,  1,  2,  1, 10,  1,  2,  1,  2,  5]])"
      ]
     },
     "metadata": {},
     "output_type": "display_data"
    }
   ],
   "source": [
    "from IPython.display import display as d, Math\n",
    "import sympy as sym\n",
    "from sympy.abc import a, b, c\n",
    "\n",
    "import numpy as np\n",
    "\n",
    "num_arry = np.full((10,15),99)\n",
    "\n",
    "#ORIGINAL:\n",
    "d(num_arry)\n",
    "\n",
    "for i in range(10):\n",
    "    for j in range(15):\n",
    "        num_arry[i,j] = sym.gcd(i+1,j+1)\n",
    "\n",
    "#MODIFIED:\n",
    "d(num_arry)"
   ]
  }
 ],
 "metadata": {
  "kernelspec": {
   "display_name": "Python 3",
   "language": "python",
   "name": "python3"
  },
  "language_info": {
   "codemirror_mode": {
    "name": "ipython",
    "version": 3
   },
   "file_extension": ".py",
   "mimetype": "text/x-python",
   "name": "python",
   "nbconvert_exporter": "python",
   "pygments_lexer": "ipython3",
   "version": "3.7.12"
  },
  "papermill": {
   "default_parameters": {},
   "duration": 14.190793,
   "end_time": "2023-04-24T04:39:01.850308",
   "environment_variables": {},
   "exception": null,
   "input_path": "__notebook__.ipynb",
   "output_path": "__notebook__.ipynb",
   "parameters": {},
   "start_time": "2023-04-24T04:38:47.659515",
   "version": "2.4.0"
  }
 },
 "nbformat": 4,
 "nbformat_minor": 5
}
